{
 "cells": [
  {
   "cell_type": "code",
   "execution_count": 1,
   "id": "2ddfc01b",
   "metadata": {},
   "outputs": [
    {
     "name": "stdout",
     "output_type": "stream",
     "text": [
      "2.5.0\n"
     ]
    }
   ],
   "source": [
    "%matplotlib inline\n",
    "import pandas as pd\n",
    "import numpy as np\n",
    "import matplotlib.pyplot as plt\n",
    "import scipy.signal as signal \n",
    "import scipy.fftpack\n",
    "from pylab import *\n",
    "from scipy import pi\n",
    "import pylab\n",
    "import cmath\n",
    "import sys\n",
    "import tensorflow as tf\n",
    "#import lvm_read\n",
    "print(tf.__version__)\n",
    "\n",
    "import os\n",
    "import pathlib\n",
    "\n",
    "import seaborn as sns\n",
    "\n",
    "from tensorflow.keras.layers.experimental import preprocessing\n",
    "from tensorflow.keras import layers\n",
    "from tensorflow.keras import models\n",
    "from IPython import display\n",
    "\n",
    "\n",
    "# Set seed for experiment reproducibility\n",
    "seed = 42\n",
    "tf.random.set_seed(seed)\n",
    "np.random.seed(seed)"
   ]
  },
  {
   "cell_type": "code",
   "execution_count": 2,
   "id": "b15dd2ee",
   "metadata": {},
   "outputs": [],
   "source": [
    "commands = np.array(['DryRun', 'row0001', 'row005', 'row01', 'row1', 'row3'])"
   ]
  },
  {
   "cell_type": "code",
   "execution_count": 3,
   "id": "b4e5a725",
   "metadata": {},
   "outputs": [],
   "source": [
    "# get want using file path\n",
    "from os import walk\n",
    "from os.path import join\n",
    "\n",
    "def data_path(mypath):\n",
    "    filepath = []\n",
    "    ae_path = []\n",
    "    cu_path = []\n",
    "    ae_path_container = []\n",
    "    cu_path_container = []\n",
    "    # 遞迴列出所有檔案的絕對路徑\n",
    "    for root, dirs, files in walk(mypath):\n",
    "        for f in files:\n",
    "            if f.find(\"AEdate\") >= 0: ae_path.append(f)\n",
    "            elif f.find(\"Current\") >= 0: cu_path.append(f)\n",
    "#             elif f.find(\".csv\") >=0: equ_path = f\n",
    "        ae_path.sort(key = lambda x: int(x[7:-4]))\n",
    "        cu_path.sort(key = lambda x: int(x[8:-4]))\n",
    "        for class_ in ae_path:\n",
    "            files_path = os.path.join(root, class_)           \n",
    "            ae_path_container.append(files_path)\n",
    "        for class_ in cu_path:\n",
    "            files_path = os.path.join(root, class_)           \n",
    "            cu_path_container.append(files_path)\n",
    "#         equ_path_container = equ_path\n",
    "    return ae_path_container"
   ]
  },
  {
   "cell_type": "code",
   "execution_count": 4,
   "id": "4d98313f",
   "metadata": {},
   "outputs": [
    {
     "name": "stdout",
     "output_type": "stream",
     "text": [
      "dryrun_1_data : (57,)\n",
      "dryrun_2_data : (68,)\n",
      "dryrun_3_data : (306,)\n",
      "row0001_1_data : (180,)\n",
      "row0001_2_data : (174,)\n",
      "row0001_3_data : (168,)\n",
      "row005_1_data : (200,)\n",
      "row005_2_data : (201,)\n",
      "row005_3_data : (101,)\n",
      "row01_1_data : (200,)\n",
      "row01_2_data : (200,)\n",
      "row01_3_data : (152,)\n",
      "row1_1_data : (200,)\n",
      "row1_2_data : (201,)\n",
      "row1_3_data : (200,)\n",
      "row3_1_data : (202,)\n",
      "row3_2_data : (200,)\n",
      "row3_3_data : (201,)\n"
     ]
    }
   ],
   "source": [
    "# read data path\n",
    "dryrun_1_path = \"/media/a00439/2C167E66167E30C6/AEdata/20190313_1113_DryRun/DryRun/\"\n",
    "dryrun_1_data = data_path(dryrun_1_path)\n",
    "dryrun_2_path = \"/media/a00439/2C167E66167E30C6/AEdata/20200213_DryRun_water_on_fan/DryRun/\"\n",
    "dryrun_2_data = data_path(dryrun_2_path)\n",
    "dryrun_3_path = \"/media/a00439/2C167E66167E30C6/AEdata/20200213_DryRun_water_on_wheel/DryRun/\"\n",
    "dryrun_3_data = data_path(dryrun_3_path)\n",
    "\n",
    "row0001_1_path = \"/media/a00439/2C167E66167E30C6/AEdata/20190104_1602_row0001_feed200um_1_har1/row0001/\"\n",
    "row0001_1_data = data_path(row0001_1_path)\n",
    "row0001_2_path = \"/media/a00439/2C167E66167E30C6/AEdata/20190104_1630_row0001_feed200um_2_har1/row0001/\"\n",
    "row0001_2_data = data_path(row0001_2_path)\n",
    "row0001_3_path = \"/media/a00439/2C167E66167E30C6/AEdata/20190104_1720_row0001_feed200um_3_har1/row0001/\"\n",
    "row0001_3_data = data_path(row0001_3_path)\n",
    "\n",
    "row005_1_path = \"/media/a00439/2C167E66167E30C6/AEdata/20181203_1404_row005_feed300um_1_nor1/row005/\"\n",
    "row005_1_data = data_path(row005_1_path)\n",
    "row005_2_path = \"/media/a00439/2C167E66167E30C6/AEdata/20181204_0900_row005_feed300um_2_nor1/row005/\"\n",
    "row005_2_data = data_path(row005_2_path)\n",
    "row005_3_path = \"/media/a00439/2C167E66167E30C6/AEdata/20181207_1550_row005_feed100um_3_nor1/row005/\"\n",
    "row005_3_data = data_path(row005_3_path)\n",
    "\n",
    "row01_1_path = \"/media/a00439/2C167E66167E30C6/AEdata/20181225_0234_row01_feed200um_1_sof3/row01/\"\n",
    "row01_1_data = data_path(row01_1_path)\n",
    "row01_2_path = \"/media/a00439/2C167E66167E30C6/AEdata/20181225_0310_row01_feed200um_2_sof3/row01/\"\n",
    "row01_2_data = data_path(row01_2_path)\n",
    "row01_3_path = \"/media/a00439/2C167E66167E30C6/AEdata/20181225_0350_row01_feed150um_3_sof3/row01/\"\n",
    "row01_3_data = data_path(row01_3_path)\n",
    "\n",
    "row1_1_path = \"/media/a00439/2C167E66167E30C6/AEdata/20181227_1010_row1_feed200um_1_sof2/row1/\"\n",
    "row1_1_data = data_path(row1_1_path)\n",
    "row1_2_path = \"/media/a00439/2C167E66167E30C6/AEdata/20181227_1102_row1_feed200um_2_sof2/row1/\"\n",
    "row1_2_data = data_path(row1_2_path)\n",
    "row1_3_path = \"/media/a00439/2C167E66167E30C6/AEdata/20181227_1145_row1_feed200um_3_sof2/row1/\"\n",
    "row1_3_data = data_path(row1_3_path)\n",
    "\n",
    "row3_1_path = \"/media/a00439/2C167E66167E30C6/AEdata/20190104_1355_row3_feed200um_1_sof1/row3/\"\n",
    "row3_1_data = data_path(row3_1_path)\n",
    "row3_2_path = \"/media/a00439/2C167E66167E30C6/AEdata/20190104_1430_row3_feed200um_2_sof1/row3/\"\n",
    "row3_2_data = data_path(row3_2_path)\n",
    "row3_3_path = \"/media/a00439/2C167E66167E30C6/AEdata/20190104_1510_row3_feed200um_3_sof1/row3/\"\n",
    "row3_3_data = data_path(row3_3_path)\n",
    "\n",
    "print('dryrun_1_data :',shape(dryrun_1_data))\n",
    "print('dryrun_2_data :',shape(dryrun_2_data))\n",
    "print('dryrun_3_data :',shape(dryrun_3_data))\n",
    "\n",
    "print('row0001_1_data :',shape(row0001_1_data))\n",
    "print('row0001_2_data :',shape(row0001_2_data))\n",
    "print('row0001_3_data :',shape(row0001_3_data))\n",
    "\n",
    "print('row005_1_data :',shape(row005_1_data))\n",
    "print('row005_2_data :',shape(row005_2_data))\n",
    "print('row005_3_data :',shape(row005_3_data))\n",
    "\n",
    "print('row01_1_data :',shape(row01_1_data))\n",
    "print('row01_2_data :',shape(row01_2_data))\n",
    "print('row01_3_data :',shape(row01_3_data))\n",
    "\n",
    "print('row1_1_data :',shape(row1_1_data))\n",
    "print('row1_2_data :',shape(row1_2_data))\n",
    "print('row1_3_data :',shape(row1_3_data))\n",
    "\n",
    "print('row3_1_data :',shape(row3_1_data))\n",
    "print('row3_2_data :',shape(row3_2_data))\n",
    "print('row3_3_data :',shape(row3_3_data))"
   ]
  },
  {
   "cell_type": "code",
   "execution_count": 5,
   "id": "29901a8b",
   "metadata": {},
   "outputs": [
    {
     "name": "stdout",
     "output_type": "stream",
     "text": [
      "dryrun shape:   (431,)\n",
      "row0001 shape:  (522,)\n",
      "row005 shape:   (502,)\n",
      "row01 shape:    (552,)\n",
      "row1 shape:     (601,)\n",
      "row3 shape:     (603,)\n",
      "all_filepath shape: (3211,)\n"
     ]
    }
   ],
   "source": [
    "dryrun_all = np.hstack((dryrun_1_data, dryrun_2_data, dryrun_3_data))\n",
    "row0001_all = np.hstack((row0001_1_data, row0001_2_data, row0001_3_data))\n",
    "row005_all = np.hstack((row005_1_data, row005_2_data, row005_3_data))\n",
    "row01_all = np.hstack((row01_1_data, row01_2_data, row01_3_data))\n",
    "row1_all = np.hstack((row1_1_data, row1_2_data, row1_3_data))\n",
    "row3_all = np.hstack((row3_1_data, row3_2_data, row3_3_data))\n",
    "print('dryrun shape:  ',dryrun_all.shape)\n",
    "print('row0001 shape: ',row0001_all.shape)\n",
    "print('row005 shape:  ',row005_all.shape)\n",
    "print('row01 shape:   ',row01_all.shape)\n",
    "print('row1 shape:    ',row1_all.shape)\n",
    "print('row3 shape:    ',row3_all.shape)\n",
    "all_filepath = np.hstack((dryrun_all, row0001_all, row005_all, row01_all, row1_all, row3_all))\n",
    "print('all_filepath shape: {}'.format(all_filepath.shape))"
   ]
  },
  {
   "cell_type": "code",
   "execution_count": 6,
   "id": "cc244b96",
   "metadata": {},
   "outputs": [
    {
     "name": "stdout",
     "output_type": "stream",
     "text": [
      "Number of total examples: 3211\n",
      "Example file[0] tensor: b'/media/a00439/2C167E66167E30C6/AEdata/20190104_1720_row0001_feed200um_3_har1/row0001/AEdate_999.lvm'\n"
     ]
    }
   ],
   "source": [
    "filenames = tf.random.shuffle(all_filepath, seed=42)\n",
    "num_samples = len(filenames)\n",
    "print('Number of total examples:', num_samples)\n",
    "print('Example file[0] tensor: {}'.format(filenames[0]))"
   ]
  },
  {
   "cell_type": "code",
   "execution_count": 7,
   "id": "63b010a9",
   "metadata": {
    "scrolled": true
   },
   "outputs": [
    {
     "name": "stdout",
     "output_type": "stream",
     "text": [
      "Training set size   : 2568\n",
      "Validation set size : 321\n",
      "Test set size       : 321\n"
     ]
    }
   ],
   "source": [
    "train_files = filenames[:2568]\n",
    "val_files = filenames[2568: 2568 + 321]\n",
    "test_files = filenames[-321:]\n",
    "\n",
    "print('Training set size   :', len(train_files))\n",
    "print('Validation set size :', len(val_files))\n",
    "print('Test set size       :', len(test_files))"
   ]
  },
  {
   "cell_type": "markdown",
   "id": "0ddece86",
   "metadata": {},
   "source": [
    "### Reading AE files and their labels"
   ]
  },
  {
   "cell_type": "code",
   "execution_count": 8,
   "id": "f8b9247d",
   "metadata": {},
   "outputs": [],
   "source": [
    "def decode_ae(ae_binary):\n",
    "    raw_data = tf.strings.split(ae_binary)[43:]\n",
    "    raw_data = tf.strings.to_number(raw_data, out_type=tf.dtypes.float32, name=None )\n",
    "    raw_data = raw_data - tf.math.reduce_mean(raw_data)\n",
    "    return raw_data"
   ]
  },
  {
   "cell_type": "code",
   "execution_count": 9,
   "id": "91aa5a2a",
   "metadata": {},
   "outputs": [],
   "source": [
    "def get_label(file_path):\n",
    "    parts = tf.strings.split(file_path, os.path.sep)\n",
    "\n",
    "  # Note: You'll use indexing here instead of tuple unpacking to enable this \n",
    "  # to work in a TensorFlow graph.\n",
    "    return parts[-2]"
   ]
  },
  {
   "cell_type": "code",
   "execution_count": 10,
   "id": "ed98f9cb",
   "metadata": {},
   "outputs": [],
   "source": [
    "def get_waveform_and_label(file_path):\n",
    "    label = get_label(file_path)\n",
    "    audio_binary = tf.io.read_file(file_path)\n",
    "    waveform = decode_ae(audio_binary)\n",
    "    return waveform, label"
   ]
  },
  {
   "cell_type": "code",
   "execution_count": 11,
   "id": "312d0409",
   "metadata": {
    "scrolled": true
   },
   "outputs": [],
   "source": [
    "AUTOTUNE = tf.data.AUTOTUNE\n",
    "files_ds = tf.data.Dataset.from_tensor_slices(train_files)\n",
    "waveform_ds = files_ds.map(get_waveform_and_label, num_parallel_calls=AUTOTUNE)"
   ]
  },
  {
   "cell_type": "code",
   "execution_count": 12,
   "id": "52f72d5b",
   "metadata": {
    "scrolled": false
   },
   "outputs": [],
   "source": [
    "# rows = 3\n",
    "# cols = 3\n",
    "# n = rows*cols\n",
    "# fig, axes = plt.subplots(rows, cols, figsize=(10, 12))\n",
    "# for i, (audio, label) in enumerate(waveform_ds.take(n)):\n",
    "#     r = i // cols\n",
    "#     c = i % cols\n",
    "#     ax = axes[r][c]\n",
    "#     ax.plot(audio[:1000].numpy())\n",
    "#     ax.set_yticks(np.arange(-5, 5, 1))\n",
    "#     label = label.numpy().decode('utf-8')\n",
    "#     ax.set_title(label)\n",
    "\n",
    "# plt.show()"
   ]
  },
  {
   "cell_type": "markdown",
   "id": "8959e066",
   "metadata": {},
   "source": [
    "### Spectrogram"
   ]
  },
  {
   "cell_type": "code",
   "execution_count": 12,
   "id": "3ed72b82",
   "metadata": {},
   "outputs": [],
   "source": [
    "def get_spectrogram(waveform):\n",
    "\n",
    "  # Concatenate audio with padding so that all audio clips will be of the \n",
    "  # same length\n",
    "    waveform = tf.cast(waveform, tf.float32)\n",
    "    waveform = tf.reshape(waveform, [100, -1])  # shape [100, 30000]\n",
    "    waveform = tf.transpose(waveform)                     # shape [30000, 100]\n",
    "#     waveform = tf.expand_dims(waveform, -1)\n",
    "    waveform = tf.abs(waveform)\n",
    "#     print(waveform.shape)\n",
    "\n",
    "#     spectrogram0 = tf.signal.stft(\n",
    "#             waveform[0], frame_length=1024,frame_step=512, fft_length=1024,\n",
    "#             window_fn=tf.signal.hann_window, pad_end=False, name=None)\n",
    "#     spectrogram0 = tf.expand_dims(spectrogram0, -1)\n",
    "#     spectrogram1 = tf.signal.stft(\n",
    "#             waveform[1], frame_length=1024,frame_step=512, fft_length=1024,\n",
    "#             window_fn=tf.signal.hann_window, pad_end=False, name=None)\n",
    "#     spectrogram1 = tf.expand_dims(spectrogram1, -1)\n",
    "#     spectrogram2 = tf.signal.stft(\n",
    "#             waveform[2], frame_length=1024,frame_step=512, fft_length=1024,\n",
    "#             window_fn=tf.signal.hann_window, pad_end=False, name=None)\n",
    "#     spectrogram2 = tf.expand_dims(spectrogram2, -1)\n",
    "#     spectrogram3 = tf.signal.stft(\n",
    "#             waveform[3], frame_length=1024,frame_step=512, fft_length=1024,\n",
    "#             window_fn=tf.signal.hann_window, pad_end=False, name=None)\n",
    "#     spectrogram3 = tf.expand_dims(spectrogram3, -1)\n",
    "#     spectrogram4 = tf.signal.stft(\n",
    "#             waveform[4], frame_length=1024,frame_step=512, fft_length=1024,\n",
    "#             window_fn=tf.signal.hann_window, pad_end=False, name=None)\n",
    "#     spectrogram4 = tf.expand_dims(spectrogram4, -1)\n",
    "    \n",
    "#     spectrogram = tf.concat([spectrogram0, spectrogram1,spectrogram2,spectrogram3,spectrogram4], -1)\n",
    "        \n",
    "#     spectrogram = tf.abs(spectrogram)\n",
    "#     spectrogram = spectrogram[:512, :512, :]\n",
    "\n",
    "    return waveform"
   ]
  },
  {
   "cell_type": "code",
   "execution_count": 13,
   "id": "eef388c0",
   "metadata": {},
   "outputs": [
    {
     "name": "stdout",
     "output_type": "stream",
     "text": [
      "Label: row0001\n",
      "Waveform shape: (5000000,)\n",
      "Spectrogram shape: (50000, 100)\n"
     ]
    }
   ],
   "source": [
    "for waveform, label in waveform_ds.take(1):\n",
    "    label = label.numpy().decode('utf-8')\n",
    "    spectrogram = get_spectrogram(waveform)\n",
    "print('Label:', label)\n",
    "print('Waveform shape:', waveform.shape)\n",
    "print('Spectrogram shape:', spectrogram.shape)"
   ]
  },
  {
   "cell_type": "code",
   "execution_count": 15,
   "id": "81ebbfc2",
   "metadata": {
    "scrolled": false
   },
   "outputs": [],
   "source": [
    "# def plot_spectrogram(spectrogram, ax):\n",
    "#   # Convert to frequencies to log scale and transpose so that the time is\n",
    "#   # represented in the x-axis (columns).\n",
    "#     log_spec = np.log(spectrogram.T)\n",
    "#     height = log_spec.shape[0]\n",
    "#     width = log_spec.shape[1]\n",
    "#     X = np.linspace(0, np.size(spectrogram), num=width, dtype=int)\n",
    "#     Y = range(height)\n",
    "#     ax.pcolormesh(X, Y, log_spec)\n",
    "\n",
    "\n",
    "# fig, axes = plt.subplots(2, figsize=(12, 8))\n",
    "# timescale = np.arange(waveform.shape[0])\n",
    "# axes[0].plot(timescale, waveform.numpy())\n",
    "# axes[0].set_title('Waveform')\n",
    "# axes[0].set_xlim([0, 100000])\n",
    "# plot_spectrogram(spectrogram.numpy(), axes[1])\n",
    "# axes[1].set_title('Spectrogram')\n",
    "# plt.show()"
   ]
  },
  {
   "cell_type": "code",
   "execution_count": 14,
   "id": "6679bf7c",
   "metadata": {},
   "outputs": [],
   "source": [
    "def get_spectrogram_and_label_id(audio, label):\n",
    "    spectrogram = get_spectrogram(audio)\n",
    "#     spectrogram = tf.expand_dims(spectrogram, -1)\n",
    "    label_id = tf.argmax(label == commands)\n",
    "    return spectrogram, label_id"
   ]
  },
  {
   "cell_type": "code",
   "execution_count": 15,
   "id": "304f6566",
   "metadata": {},
   "outputs": [],
   "source": [
    "spectrogram_ds = waveform_ds.map(\n",
    "    get_spectrogram_and_label_id, num_parallel_calls=AUTOTUNE)"
   ]
  },
  {
   "cell_type": "code",
   "execution_count": 18,
   "id": "cdaf3292",
   "metadata": {
    "scrolled": false
   },
   "outputs": [],
   "source": [
    "# rows = 3\n",
    "# cols = 3\n",
    "# n = rows*cols\n",
    "# fig, axes = plt.subplots(rows, cols, figsize=(10, 10))\n",
    "# for i, (spectrogram, label_id) in enumerate(spectrogram_ds.take(n)):\n",
    "#     r = i // cols\n",
    "#     c = i % cols\n",
    "#     ax = axes[r][c]\n",
    "#     plot_spectrogram(np.squeeze(spectrogram.numpy()), ax)\n",
    "#     ax.set_title(commands[label_id.numpy()])\n",
    "#     ax.axis('off')\n",
    "\n",
    "# plt.show()"
   ]
  },
  {
   "cell_type": "markdown",
   "id": "8a49cf5f",
   "metadata": {},
   "source": [
    "### Build and train the model"
   ]
  },
  {
   "cell_type": "code",
   "execution_count": 16,
   "id": "de13f61c",
   "metadata": {},
   "outputs": [],
   "source": [
    "def preprocess_dataset(files):\n",
    "    files_ds = tf.data.Dataset.from_tensor_slices(files)\n",
    "    output_ds = files_ds.map(get_waveform_and_label, num_parallel_calls=AUTOTUNE)\n",
    "    output_ds = output_ds.map(\n",
    "        get_spectrogram_and_label_id,  num_parallel_calls=AUTOTUNE)\n",
    "    return output_ds"
   ]
  },
  {
   "cell_type": "code",
   "execution_count": 17,
   "id": "bb8f3a8b",
   "metadata": {},
   "outputs": [],
   "source": [
    "train_ds = spectrogram_ds\n",
    "val_ds = preprocess_dataset(val_files)\n",
    "test_ds = preprocess_dataset(test_files)"
   ]
  },
  {
   "cell_type": "code",
   "execution_count": 18,
   "id": "1589c93d",
   "metadata": {},
   "outputs": [],
   "source": [
    "batch_size = 8\n",
    "train_ds = train_ds.batch(batch_size)\n",
    "val_ds = val_ds.batch(batch_size)"
   ]
  },
  {
   "cell_type": "code",
   "execution_count": 19,
   "id": "acd1ee04",
   "metadata": {},
   "outputs": [],
   "source": [
    "train_ds = train_ds.cache().prefetch(AUTOTUNE)\n",
    "val_ds = val_ds.cache().prefetch(AUTOTUNE)"
   ]
  },
  {
   "cell_type": "code",
   "execution_count": 20,
   "id": "2cd6f2f5",
   "metadata": {},
   "outputs": [
    {
     "name": "stdout",
     "output_type": "stream",
     "text": [
      "Input shape: (50000, 100)\n",
      "Output shape 6\n"
     ]
    }
   ],
   "source": [
    "for spectrogram, _ in spectrogram_ds.take(1):\n",
    "    input_shape = spectrogram.shape\n",
    "print('Input shape:', input_shape)\n",
    "num_labels = len(commands)\n",
    "print('Output shape', num_labels)\n",
    "# norm_layer = preprocessing.Normalization()\n",
    "# norm_layer.adapt(spectrogram_ds.map(lambda x, _: x))"
   ]
  },
  {
   "cell_type": "code",
   "execution_count": 40,
   "id": "4d673f19",
   "metadata": {
    "scrolled": false
   },
   "outputs": [
    {
     "name": "stdout",
     "output_type": "stream",
     "text": [
      "WARNING:tensorflow:Please add `keras.layers.InputLayer` instead of `keras.Input` to Sequential model. `keras.Input` is intended to be used by Functional model.\n",
      "Model: \"sequential_11\"\n",
      "_________________________________________________________________\n",
      "Layer (type)                 Output Shape              Param #   \n",
      "=================================================================\n",
      "conv1d_40 (Conv1D)           (None, 5000, 32)          32032     \n",
      "_________________________________________________________________\n",
      "dropout_52 (Dropout)         (None, 5000, 32)          0         \n",
      "_________________________________________________________________\n",
      "conv1d_41 (Conv1D)           (None, 625, 64)           16448     \n",
      "_________________________________________________________________\n",
      "dropout_53 (Dropout)         (None, 625, 64)           0         \n",
      "_________________________________________________________________\n",
      "conv1d_42 (Conv1D)           (None, 125, 256)          82176     \n",
      "_________________________________________________________________\n",
      "dropout_54 (Dropout)         (None, 125, 256)          0         \n",
      "_________________________________________________________________\n",
      "average_pooling1d_12 (Averag (None, 125, 256)          0         \n",
      "_________________________________________________________________\n",
      "max_pooling1d_11 (MaxPooling (None, 1, 256)            0         \n",
      "_________________________________________________________________\n",
      "flatten_11 (Flatten)         (None, 256)               0         \n",
      "_________________________________________________________________\n",
      "dense_28 (Dense)             (None, 64)                16448     \n",
      "_________________________________________________________________\n",
      "dropout_55 (Dropout)         (None, 64)                0         \n",
      "_________________________________________________________________\n",
      "dense_29 (Dense)             (None, 6)                 390       \n",
      "=================================================================\n",
      "Total params: 147,494\n",
      "Trainable params: 147,494\n",
      "Non-trainable params: 0\n",
      "_________________________________________________________________\n"
     ]
    }
   ],
   "source": [
    "model = models.Sequential([\n",
    "    layers.Input(shape=input_shape),\n",
    "\n",
    "    layers.Conv1D(filters=32,\n",
    "                    kernel_size=(10,),\n",
    "                    strides=10,\n",
    "                    activation='relu',\n",
    "                    input_shape=input_shape[1:],),\n",
    "    layers.Dropout(0.3),\n",
    "    layers.Conv1D(filters=64,\n",
    "                    kernel_size=(8,),\n",
    "                    strides=8,\n",
    "                    activation='relu'),\n",
    "    layers.Dropout(0.3),\n",
    "    layers.Conv1D(filters=256,\n",
    "                    kernel_size=(5,),\n",
    "                    strides=5,\n",
    "                    activation='relu'), \n",
    "    layers.Dropout(0.3),\n",
    "    layers.AveragePooling1D(pool_size=1, strides=None, padding='valid'),\n",
    "    layers.MaxPooling1D(pool_size=125, strides=None, padding='valid'),\n",
    "#     layers.Dropout(0.25),\n",
    "    layers.Flatten(),\n",
    "    layers.Dense(64, activation='relu'),\n",
    "    layers.Dropout(0.5),\n",
    "    layers.Dense(num_labels),\n",
    "])\n",
    "\n",
    "model.summary()"
   ]
  },
  {
   "cell_type": "code",
   "execution_count": 41,
   "id": "9b31604b",
   "metadata": {},
   "outputs": [],
   "source": [
    "model.compile(\n",
    "    optimizer=tf.keras.optimizers.Adam(),\n",
    "    loss=tf.keras.losses.SparseCategoricalCrossentropy(from_logits=True),\n",
    "    metrics=['accuracy'],\n",
    ")"
   ]
  },
  {
   "cell_type": "code",
   "execution_count": 42,
   "id": "3a41a8aa",
   "metadata": {
    "scrolled": false
   },
   "outputs": [
    {
     "name": "stdout",
     "output_type": "stream",
     "text": [
      "Epoch 1/10\n",
      "321/321 [==============================] - 16s 50ms/step - loss: 1.5697 - accuracy: 0.3072 - val_loss: 1.4905 - val_accuracy: 0.3458\n",
      "Epoch 2/10\n",
      "321/321 [==============================] - 16s 49ms/step - loss: 1.1504 - accuracy: 0.4661 - val_loss: 1.1634 - val_accuracy: 0.5701\n",
      "Epoch 3/10\n",
      "321/321 [==============================] - 16s 49ms/step - loss: 0.9771 - accuracy: 0.5183 - val_loss: 0.9928 - val_accuracy: 0.5109\n",
      "Epoch 4/10\n",
      "321/321 [==============================] - 16s 49ms/step - loss: 0.9011 - accuracy: 0.5452 - val_loss: 1.0057 - val_accuracy: 0.4766\n",
      "Epoch 5/10\n",
      "321/321 [==============================] - 16s 50ms/step - loss: 0.8390 - accuracy: 0.5814 - val_loss: 0.9440 - val_accuracy: 0.5389\n",
      "Epoch 6/10\n",
      "321/321 [==============================] - 16s 50ms/step - loss: 0.8411 - accuracy: 0.5927 - val_loss: 1.0165 - val_accuracy: 0.4455\n",
      "Epoch 7/10\n",
      "321/321 [==============================] - 16s 50ms/step - loss: 0.8117 - accuracy: 0.6106 - val_loss: 0.9768 - val_accuracy: 0.4455\n",
      "Epoch 00007: early stopping\n"
     ]
    }
   ],
   "source": [
    "EPOCHS = 10\n",
    "history = model.fit(\n",
    "    train_ds, \n",
    "    validation_data=val_ds,  \n",
    "    epochs=EPOCHS,\n",
    "    callbacks=tf.keras.callbacks.EarlyStopping(verbose=1, patience=2),\n",
    ")\n",
    "\n",
    "# summary_writer = tf.summary.create_file_writer(\"/tmp/1dcnn-logs-summary\")\n",
    "# with summary_writer.as_default():\n",
    "#     tf.summary.scalar('loss')\n"
   ]
  },
  {
   "cell_type": "code",
   "execution_count": 33,
   "id": "82a688ea",
   "metadata": {},
   "outputs": [
    {
     "data": {
      "image/png": "[encoded data removed]",
      "text/plain": [
       "<Figure size 432x288 with 1 Axes>"
      ]
     },
     "metadata": {
      "needs_background": "light"
     },
     "output_type": "display_data"
    }
   ],
   "source": [
    "metrics = history.history\n",
    "plt.plot(history.epoch, metrics['loss'], metrics['val_loss'])\n",
    "plt.legend(['loss', 'val_loss'])\n",
    "plt.show()"
   ]
  },
  {
   "cell_type": "markdown",
   "id": "ad8ee03a",
   "metadata": {},
   "source": [
    "### Evaluate test set performance"
   ]
  },
  {
   "cell_type": "code",
   "execution_count": 83,
   "id": "6cf4c8f9",
   "metadata": {},
   "outputs": [],
   "source": [
    "test_audio = []\n",
    "test_labels = []\n",
    "\n",
    "for audio, label in test_ds:\n",
    "    test_audio.append(audio.numpy())\n",
    "    test_labels.append(label.numpy())\n",
    "\n",
    "test_audio = np.array(test_audio)\n",
    "test_labels = np.array(test_labels)"
   ]
  },
  {
   "cell_type": "code",
   "execution_count": 84,
   "id": "3aa41fdd",
   "metadata": {},
   "outputs": [
    {
     "name": "stdout",
     "output_type": "stream",
     "text": [
      "Test set accuracy: 97%\n"
     ]
    }
   ],
   "source": [
    "y_pred = np.argmax(model.predict(test_audio), axis=1)\n",
    "y_true = test_labels\n",
    "\n",
    "test_acc = sum(y_pred == y_true) / len(y_true)\n",
    "print(f'Test set accuracy: {test_acc:.0%}')"
   ]
  },
  {
   "cell_type": "markdown",
   "id": "f5c37f6f",
   "metadata": {},
   "source": [
    "### Display a confusion matrix"
   ]
  },
  {
   "cell_type": "code",
   "execution_count": 86,
   "id": "a33ca9e3",
   "metadata": {},
   "outputs": [
    {
     "data": {
      "image/png": "[encoded data removed]",
      "text/plain": [
       "<Figure size 720x576 with 2 Axes>"
      ]
     },
     "metadata": {
      "needs_background": "light"
     },
     "output_type": "display_data"
    }
   ],
   "source": [
    "confusion_mtx = tf.math.confusion_matrix(y_true, y_pred) \n",
    "plt.figure(figsize=(10, 8))\n",
    "sns.heatmap(confusion_mtx, xticklabels=commands, yticklabels=commands, \n",
    "            annot=True, fmt='g')\n",
    "plt.xlabel('Prediction')\n",
    "plt.ylabel('Label')\n",
    "plt.show()"
   ]
  },
  {
   "cell_type": "markdown",
   "id": "76f17781",
   "metadata": {},
   "source": [
    "### Run inference on an audio file"
   ]
  },
  {
   "cell_type": "code",
   "execution_count": 85,
   "id": "2d6ded99",
   "metadata": {},
   "outputs": [
    {
     "data": {
      "image/png": "[encoded data removed]",
      "text/plain": [
       "<Figure size 432x288 with 1 Axes>"
      ]
     },
     "metadata": {
      "needs_background": "light"
     },
     "output_type": "display_data"
    }
   ],
   "source": [
    "sample_file = preprocess_dataset(['/media/a00439/2C167E66167E30C6/AEdata/20181225_0310_row01_feed200um_2_sof3/row01/AEdate_280.lvm'])\n",
    "\n",
    "sample_ds = sample_file\n",
    "\n",
    "for spectrogram, label in sample_ds.batch(1):\n",
    "    prediction = model(spectrogram)\n",
    "    plt.bar(commands, tf.nn.softmax(prediction[0]))\n",
    "    plt.title(f'Predictions for \"{commands[label[0]]}\"')\n",
    "    plt.show()"
   ]
  },
  {
   "cell_type": "code",
   "execution_count": null,
   "id": "bf0017ca",
   "metadata": {},
   "outputs": [],
   "source": []
  }
 ],
 "metadata": {
  "kernelspec": {
   "display_name": "tf2",
   "language": "python",
   "name": "tf2"
  },
  "language_info": {
   "codemirror_mode": {
    "name": "ipython",
    "version": 3
   },
   "file_extension": ".py",
   "mimetype": "text/x-python",
   "name": "python",
   "nbconvert_exporter": "python",
   "pygments_lexer": "ipython3",
   "version": "3.6.9"
  }
 },
 "nbformat": 4,
 "nbformat_minor": 5
}
