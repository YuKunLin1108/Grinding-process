{
 "cells": [
  {
   "cell_type": "code",
   "execution_count": 1,
   "id": "2ddfc01b",
   "metadata": {},
   "outputs": [
    {
     "name": "stdout",
     "output_type": "stream",
     "text": [
      "2.5.0\n"
     ]
    }
   ],
   "source": [
    "%matplotlib inline\n",
    "import pandas as pd\n",
    "import numpy as np\n",
    "import matplotlib.pyplot as plt\n",
    "import scipy.signal as signal \n",
    "import scipy.fftpack\n",
    "from pylab import *\n",
    "from scipy import pi\n",
    "import pylab\n",
    "import cmath\n",
    "import sys\n",
    "import tensorflow as tf\n",
    "#import lvm_read\n",
    "print(tf.__version__)\n",
    "\n",
    "import os\n",
    "import pathlib\n",
    "\n",
    "import seaborn as sns\n",
    "\n",
    "from tensorflow.keras.layers.experimental import preprocessing\n",
    "from tensorflow.keras import layers\n",
    "from tensorflow.keras import models\n",
    "from IPython import display\n",
    "\n",
    "\n",
    "# Set seed for experiment reproducibility\n",
    "seed = 42\n",
    "tf.random.set_seed(seed)\n",
    "np.random.seed(seed)"
   ]
  },
  {
   "cell_type": "code",
   "execution_count": 2,
   "id": "b15dd2ee",
   "metadata": {},
   "outputs": [],
   "source": [
    "commands = np.array(['DryRun', 'row0001', 'row005', 'row01', 'row1', 'row3'])"
   ]
  },
  {
   "cell_type": "code",
   "execution_count": 3,
   "id": "b4e5a725",
   "metadata": {},
   "outputs": [],
   "source": [
    "# get want using file path\n",
    "from os import walk\n",
    "from os.path import join\n",
    "\n",
    "def data_path(mypath):\n",
    "    filepath = []\n",
    "    ae_path = []\n",
    "    cu_path = []\n",
    "    ae_path_container = []\n",
    "    cu_path_container = []\n",
    "    # 遞迴列出所有檔案的絕對路徑\n",
    "    for root, dirs, files in walk(mypath):\n",
    "        for f in files:\n",
    "            if f.find(\"AEdate\") >= 0: ae_path.append(f)\n",
    "            elif f.find(\"Current\") >= 0: cu_path.append(f)\n",
    "#             elif f.find(\".csv\") >=0: equ_path = f\n",
    "        ae_path.sort(key = lambda x: int(x[7:-4]))\n",
    "        cu_path.sort(key = lambda x: int(x[8:-4]))\n",
    "        for class_ in ae_path:\n",
    "            files_path = os.path.join(root, class_)           \n",
    "            ae_path_container.append(files_path)\n",
    "        for class_ in cu_path:\n",
    "            files_path = os.path.join(root, class_)           \n",
    "            cu_path_container.append(files_path)\n",
    "#         equ_path_container = equ_path\n",
    "    return ae_path_container \n",
    "\n",
    "def data_path_c(mypath):\n",
    "    filepath = []\n",
    "    ae_path = []\n",
    "    cu_path = []\n",
    "    ae_path_container = []\n",
    "    cu_path_container = []\n",
    "    # 遞迴列出所有檔案的絕對路徑\n",
    "    for root, dirs, files in walk(mypath):\n",
    "        for f in files:\n",
    "            if f.find(\"AEdate\") >= 0: ae_path.append(f)\n",
    "            elif f.find(\"Current\") >= 0: cu_path.append(f)\n",
    "#             elif f.find(\".csv\") >=0: equ_path = f\n",
    "        ae_path.sort(key = lambda x: int(x[7:-4]))\n",
    "        cu_path.sort(key = lambda x: int(x[8:-4]))\n",
    "        for class_ in ae_path:\n",
    "            files_path = os.path.join(root, class_)           \n",
    "            ae_path_container.append(files_path)\n",
    "        for class_ in cu_path:\n",
    "            files_path = os.path.join(root, class_)           \n",
    "            cu_path_container.append(files_path)\n",
    "#         equ_path_container = equ_path\n",
    "    return cu_path_container"
   ]
  },
  {
   "cell_type": "code",
   "execution_count": 4,
   "id": "4d98313f",
   "metadata": {
    "scrolled": true
   },
   "outputs": [
    {
     "name": "stdout",
     "output_type": "stream",
     "text": [
      "row0001_1_data : (180,), (180,)\n",
      "row0001_2_data : (174,), (174,)\n",
      "row0001_3_data : (168,), (168,)\n",
      "row005_2_data : (201,), (201,)\n",
      "row005_3_data : (101,), (101,)\n",
      "row01_1_data : (200,), (200,)\n",
      "row01_2_data : (200,), (200,)\n",
      "row01_3_data : (152,), (200,)\n",
      "row1_1_data : (200,), (200,)\n",
      "row1_2_data : (201,), (200,)\n",
      "row1_3_data : (200,), (200,)\n",
      "row3_1_data : (202,), (200,)\n",
      "row3_2_data : (200,), (200,)\n",
      "row3_3_data : (201,), (200,)\n"
     ]
    }
   ],
   "source": [
    "# read data path\n",
    "# dryrun_1_path = \"/media/a00439/2C167E66167E30C6/AEdata/20190313_1113_DryRun/DryRun/\"\n",
    "# dryrun_1_data = data_path(dryrun_1_path)\n",
    "# dryrun_2_path = \"/media/a00439/2C167E66167E30C6/AEdata/20200213_DryRun_water_on_fan/DryRun/\"\n",
    "# dryrun_2_data = data_path(dryrun_2_path)\n",
    "# dryrun_3_path = \"/media/a00439/2C167E66167E30C6/AEdata/20200213_DryRun_water_on_wheel/DryRun/\"\n",
    "# dryrun_3_data = data_path(dryrun_3_path)\n",
    "\n",
    "row0001_1_path = \"/media/a00439/2C167E66167E30C6/AEdata/20190104_1602_row0001_feed200um_1_har1/row0001/\"\n",
    "row0001_1_data = data_path(row0001_1_path)\n",
    "row0001_2_path = \"/media/a00439/2C167E66167E30C6/AEdata/20190104_1630_row0001_feed200um_2_har1/row0001/\"\n",
    "row0001_2_data = data_path(row0001_2_path)\n",
    "row0001_3_path = \"/media/a00439/2C167E66167E30C6/AEdata/20190104_1720_row0001_feed200um_3_har1/row0001/\"\n",
    "row0001_3_data = data_path(row0001_3_path)\n",
    "\n",
    "# row005_1_path = \"/media/a00439/2C167E66167E30C6/AEdata/20181203_1404_row005_feed300um_1_nor1/row005/\"\n",
    "# row005_1_data = data_path(row005_1_path)\n",
    "row005_2_path = \"/media/a00439/2C167E66167E30C6/AEdata/20181204_0900_row005_feed300um_2_nor1/row005/\"\n",
    "row005_2_data = data_path(row005_2_path)\n",
    "row005_3_path = \"/media/a00439/2C167E66167E30C6/AEdata/20181207_1550_row005_feed100um_3_nor1/row005/\"\n",
    "row005_3_data = data_path(row005_3_path)\n",
    "\n",
    "row01_1_path = \"/media/a00439/2C167E66167E30C6/AEdata/20181225_0234_row01_feed200um_1_sof3/row01/\"\n",
    "row01_1_data = data_path(row01_1_path)\n",
    "row01_2_path = \"/media/a00439/2C167E66167E30C6/AEdata/20181225_0310_row01_feed200um_2_sof3/row01/\"\n",
    "row01_2_data = data_path(row01_2_path)\n",
    "row01_3_path = \"/media/a00439/2C167E66167E30C6/AEdata/20181225_0350_row01_feed150um_3_sof3/row01/\"\n",
    "row01_3_data = data_path(row01_3_path)\n",
    "\n",
    "row1_1_path = \"/media/a00439/2C167E66167E30C6/AEdata/20181227_1010_row1_feed200um_1_sof2/row1/\"\n",
    "row1_1_data = data_path(row1_1_path)\n",
    "row1_2_path = \"/media/a00439/2C167E66167E30C6/AEdata/20181227_1102_row1_feed200um_2_sof2/row1/\"\n",
    "row1_2_data = data_path(row1_2_path)\n",
    "row1_3_path = \"/media/a00439/2C167E66167E30C6/AEdata/20181227_1145_row1_feed200um_3_sof2/row1/\"\n",
    "row1_3_data = data_path(row1_3_path)\n",
    "\n",
    "row3_1_path = \"/media/a00439/2C167E66167E30C6/AEdata/20190104_1355_row3_feed200um_1_sof1/row3/\"\n",
    "row3_1_data = data_path(row3_1_path)\n",
    "row3_2_path = \"/media/a00439/2C167E66167E30C6/AEdata/20190104_1430_row3_feed200um_2_sof1/row3/\"\n",
    "row3_2_data = data_path(row3_2_path)\n",
    "row3_3_path = \"/media/a00439/2C167E66167E30C6/AEdata/20190104_1510_row3_feed200um_3_sof1/row3/\"\n",
    "row3_3_data = data_path(row3_3_path)\n",
    "\n",
    "# print('dryrun_1_data :',shape(dryrun_1_data))\n",
    "# print('dryrun_2_data :',shape(dryrun_2_data))\n",
    "# print('dryrun_3_data :',shape(dryrun_3_data))\n",
    "\n",
    "# read data path\n",
    "# dryrun_1_path = \"/media/a00439/2C167E66167E30C6/AEdata/20190313_1113_DryRun/DryRun_c/\"\n",
    "# dryrun_1_data = data_path(dryrun_1_path)\n",
    "# dryrun_2_path = \"/media/a00439/2C167E66167E30C6/AEdata/20200213_DryRun_water_on_fan/DryRun_c/\"\n",
    "# dryrun_2_data = data_path(dryrun_2_path)\n",
    "# dryrun_3_path = \"/media/a00439/2C167E66167E30C6/AEdata/20200213_DryRun_water_on_wheel/DryRun_c/\"\n",
    "# dryrun_3_data = data_path(dryrun_3_path)\n",
    "\n",
    "row0001_1_path_c = \"/media/a00439/2C167E66167E30C6/AEdata/20190104_1602_row0001_feed200um_1_har1/row0001_c/\"\n",
    "row0001_1_data_c = data_path_c(row0001_1_path_c)\n",
    "row0001_2_path_c = \"/media/a00439/2C167E66167E30C6/AEdata/20190104_1630_row0001_feed200um_2_har1/row0001_c/\"\n",
    "row0001_2_data_c = data_path_c(row0001_2_path_c)\n",
    "row0001_3_path_c = \"/media/a00439/2C167E66167E30C6/AEdata/20190104_1720_row0001_feed200um_3_har1/row0001_c/\"\n",
    "row0001_3_data_c = data_path_c(row0001_3_path_c)\n",
    "\n",
    "# row005_1_path = \"/media/a00439/2C167E66167E30C6/AEdata/20181203_1404_row005_feed300um_1_nor1/row005_c/\"\n",
    "# row005_1_data = data_path(row005_1_path)\n",
    "row005_2_path_c = \"/media/a00439/2C167E66167E30C6/AEdata/20181204_0900_row005_feed300um_2_nor1/row005_c/\"\n",
    "row005_2_data_c = data_path_c(row005_2_path_c)\n",
    "row005_3_path_c = \"/media/a00439/2C167E66167E30C6/AEdata/20181207_1550_row005_feed100um_3_nor1/row005_c/\"\n",
    "row005_3_data_c = data_path_c(row005_3_path_c)\n",
    "\n",
    "row01_1_path_c = \"/media/a00439/2C167E66167E30C6/AEdata/20181225_0234_row01_feed200um_1_sof3/row01_c/\"\n",
    "row01_1_data_c = data_path_c(row01_1_path_c)\n",
    "row01_2_path_c = \"/media/a00439/2C167E66167E30C6/AEdata/20181225_0310_row01_feed200um_2_sof3/row01_c/\"\n",
    "row01_2_data_c = data_path_c(row01_2_path_c)\n",
    "row01_3_path_c = \"/media/a00439/2C167E66167E30C6/AEdata/20181225_0350_row01_feed150um_3_sof3/row01_c/\"\n",
    "row01_3_data_c = data_path_c(row01_3_path_c)\n",
    "\n",
    "row1_1_path_c = \"/media/a00439/2C167E66167E30C6/AEdata/20181227_1010_row1_feed200um_1_sof2/row1_c/\"\n",
    "row1_1_data_c = data_path_c(row1_1_path_c)\n",
    "row1_2_path_c = \"/media/a00439/2C167E66167E30C6/AEdata/20181227_1102_row1_feed200um_2_sof2/row1_c/\"\n",
    "row1_2_data_c = data_path_c(row1_2_path_c)\n",
    "row1_3_path_c = \"/media/a00439/2C167E66167E30C6/AEdata/20181227_1145_row1_feed200um_3_sof2/row1_c/\"\n",
    "row1_3_data_c = data_path_c(row1_3_path_c)\n",
    "\n",
    "row3_1_path_c = \"/media/a00439/2C167E66167E30C6/AEdata/20190104_1355_row3_feed200um_1_sof1/row3_c/\"\n",
    "row3_1_data_c = data_path_c(row3_1_path_c)\n",
    "row3_2_path_c = \"/media/a00439/2C167E66167E30C6/AEdata/20190104_1430_row3_feed200um_2_sof1/row3_c/\"\n",
    "row3_2_data_c = data_path_c(row3_2_path_c)\n",
    "row3_3_path_c = \"/media/a00439/2C167E66167E30C6/AEdata/20190104_1510_row3_feed200um_3_sof1/row3_c/\"\n",
    "row3_3_data_c = data_path_c(row3_3_path_c)\n",
    "\n",
    "\n",
    "print('row0001_1_data : {}, {}'.format(shape(row0001_1_data),shape(row0001_1_data_c)))\n",
    "print('row0001_2_data : {}, {}'.format(shape(row0001_2_data),shape(row0001_2_data_c)))\n",
    "print('row0001_3_data : {}, {}'.format(shape(row0001_3_data),shape(row0001_3_data_c)))\n",
    "\n",
    "# print('row005_1_data :',shape(row005_1_data))\n",
    "print('row005_2_data : {}, {}'.format(shape(row005_2_data),shape(row005_2_data_c)))\n",
    "print('row005_3_data : {}, {}'.format(shape(row005_3_data),shape(row005_3_data_c)))\n",
    "\n",
    "print('row01_1_data : {}, {}'.format(shape(row01_1_data),shape(row01_1_data_c)))\n",
    "print('row01_2_data : {}, {}'.format(shape(row01_2_data),shape(row01_1_data_c)))\n",
    "print('row01_3_data : {}, {}'.format(shape(row01_3_data),shape(row01_1_data_c)))\n",
    "\n",
    "print('row1_1_data : {}, {}'.format(shape(row1_1_data),shape(row01_1_data_c)))\n",
    "print('row1_2_data : {}, {}'.format(shape(row1_2_data),shape(row01_1_data_c)))\n",
    "print('row1_3_data : {}, {}'.format(shape(row1_3_data),shape(row01_1_data_c)))\n",
    "\n",
    "print('row3_1_data : {}, {}'.format(shape(row3_1_data),shape(row01_1_data_c)))\n",
    "print('row3_2_data : {}, {}'.format(shape(row3_2_data),shape(row01_1_data_c)))\n",
    "print('row3_3_data : {}, {}'.format(shape(row3_3_data),shape(row01_1_data_c)))"
   ]
  },
  {
   "cell_type": "code",
   "execution_count": 5,
   "id": "29901a8b",
   "metadata": {},
   "outputs": [
    {
     "name": "stdout",
     "output_type": "stream",
     "text": [
      "row0001 shape:(522,),(522,)\n",
      "row005 shape: (302,),(302,)\n",
      "row01 shape:  (552,),(552,)\n",
      "row1 shape:   (601,),(601,)\n",
      "row3 shape:   (603,),(603,)\n",
      "all_filepath_a shape: (2580,)\n",
      "all_filepath_c shape: (2580,)\n",
      "all_filepath shape:   (2580, 2)\n"
     ]
    }
   ],
   "source": [
    "# dryrun_all = np.hstack((dryrun_1_data, dryrun_2_data, dryrun_3_data))\n",
    "row0001_all = np.hstack((row0001_1_data, row0001_2_data, row0001_3_data))\n",
    "row005_all = np.hstack((row005_2_data, row005_3_data))\n",
    "row01_all = np.hstack((row01_1_data, row01_2_data, row01_3_data))\n",
    "row1_all = np.hstack((row1_1_data, row1_2_data, row1_3_data))\n",
    "row3_all = np.hstack((row3_1_data, row3_2_data, row3_3_data))\n",
    "# print('dryrun shape:  ',dryrun_all.shape)\n",
    "row0001_all_c = np.hstack((row0001_1_data_c, row0001_2_data_c, row0001_3_data_c))\n",
    "row005_all_c = np.hstack((row005_2_data_c, row005_3_data_c))\n",
    "row01_all_c = np.hstack((row01_1_data_c, row01_2_data_c, row01_3_data_c))\n",
    "row1_all_c = np.hstack((row1_1_data_c, row1_2_data_c, row1_3_data_c))\n",
    "row3_all_c = np.hstack((row3_1_data_c, row3_2_data_c, row3_3_data_c))\n",
    "\n",
    "\n",
    "\n",
    "print('row0001 shape:{},{}'.format(row0001_all.shape, row0001_all_c.shape))\n",
    "print('row005 shape: {},{}'.format(row005_all.shape, row005_all_c.shape))\n",
    "print('row01 shape:  {},{}'.format(row01_all.shape, row01_all_c.shape))\n",
    "print('row1 shape:   {},{}'.format(row1_all.shape, row1_all_c.shape))\n",
    "print('row3 shape:   {},{}'.format(row3_all.shape, row3_all_c.shape))\n",
    "all_filepath_a = np.hstack((row0001_all, row005_all, row01_all, row1_all, row3_all))\n",
    "all_filepath_c = np.hstack((row0001_all_c, row005_all_c, row01_all_c, row1_all_c, row3_all_c))\n",
    "all_filepath =np.vstack((all_filepath_a, all_filepath_c))\n",
    "print('all_filepath_a shape: {}'.format(all_filepath_a.shape))\n",
    "print('all_filepath_c shape: {}'.format(all_filepath_c.shape))\n",
    "print('all_filepath shape:   {}'.format((all_filepath.T).shape))"
   ]
  },
  {
   "cell_type": "code",
   "execution_count": 6,
   "id": "6300ad6a",
   "metadata": {},
   "outputs": [],
   "source": [
    "# def get_label(file):\n",
    "#     class_name = []\n",
    "#     for f in file:\n",
    "#         if f.find(\"DryRun\") >=0: class_name.append(0)\n",
    "#         elif f.find(\"row0001\") >=0: class_name.append(1)\n",
    "#         elif f.find(\"row005\") >=0: class_name.append(2)\n",
    "#         elif f.find(\"row01\") >=0: class_name.append(3)\n",
    "#         elif f.find(\"row1\") >=0: class_name.append(4)\n",
    "#         elif f.find(\"row3\") >=0: class_name.append(5)\n",
    "#     return class_name\n",
    "\n",
    "# all_filelabel = get_label(all_filepath)"
   ]
  },
  {
   "cell_type": "code",
   "execution_count": 7,
   "id": "cc244b96",
   "metadata": {},
   "outputs": [
    {
     "name": "stdout",
     "output_type": "stream",
     "text": [
      "Number of total examples: 2580\n",
      "Example file[0, 0] tensor: [b'/media/a00439/2C167E66167E30C6/AEdata/20181225_0234_row01_feed200um_1_sof3/row01/AEdate_240.lvm'\n",
      " b'/media/a00439/2C167E66167E30C6/AEdata/20181225_0234_row01_feed200um_1_sof3/row01_c/Current_240.lvm']\n"
     ]
    }
   ],
   "source": [
    "filenames = tf.random.shuffle(all_filepath.T, seed=42)\n",
    "num_samples = len(filenames)\n",
    "print('Number of total examples:', num_samples)\n",
    "print('Example file[0, 0] tensor: {}'.format(filenames[0]))"
   ]
  },
  {
   "cell_type": "code",
   "execution_count": 8,
   "id": "63b010a9",
   "metadata": {
    "scrolled": true
   },
   "outputs": [
    {
     "name": "stdout",
     "output_type": "stream",
     "text": [
      "Training set size   : 2064\n",
      "Validation set size : 258\n",
      "Test set size       : 258\n"
     ]
    }
   ],
   "source": [
    "train_files = filenames[:2064]\n",
    "val_files = filenames[2064: 2064 + 258]\n",
    "test_files = filenames[-258:]\n",
    "\n",
    "print('Training set size   :', len(train_files))\n",
    "print('Validation set size :', len(val_files))\n",
    "print('Test set size       :', len(test_files))"
   ]
  },
  {
   "cell_type": "markdown",
   "id": "0ddece86",
   "metadata": {},
   "source": [
    "### Reading AE files and their labels"
   ]
  },
  {
   "cell_type": "code",
   "execution_count": 9,
   "id": "f8b9247d",
   "metadata": {},
   "outputs": [],
   "source": [
    "def decode_ae(ae_binary):\n",
    "    raw_data = tf.strings.split(ae_binary)[43:]\n",
    "    raw_data = tf.strings.to_number(raw_data, out_type=tf.dtypes.float32, name=None )\n",
    "    raw_data = raw_data - tf.math.reduce_mean(raw_data)\n",
    "    return raw_data\n",
    "\n",
    "def decode_vi(vi_binary):\n",
    "    raw_data = tf.strings.split(vi_binary)[74:]\n",
    "    raw_data = tf.reshape(raw_data, [-1, 5])\n",
    "    raw_data1 = raw_data[:, -2]\n",
    "    raw_data1 = tf.strings.to_number(raw_data1, out_type=tf.dtypes.float32, name=None )\n",
    "    raw_data1 = raw_data1 - tf.math.reduce_mean(raw_data1)\n",
    "    raw_data2 = raw_data[:, -1]\n",
    "    raw_data2 = tf.strings.to_number(raw_data2, out_type=tf.dtypes.float32, name=None )\n",
    "    raw_data2 = raw_data2 - tf.math.reduce_mean(raw_data2)\n",
    "    return raw_data1, raw_data2"
   ]
  },
  {
   "cell_type": "code",
   "execution_count": 10,
   "id": "91aa5a2a",
   "metadata": {},
   "outputs": [],
   "source": [
    "def get_label(file_path):\n",
    "    parts = tf.strings.split(file_path, os.path.sep)\n",
    "\n",
    "  # Note: You'll use indexing here instead of tuple unpacking to enable this \n",
    "  # to work in a TensorFlow graph.\n",
    "    return parts[-2]"
   ]
  },
  {
   "cell_type": "code",
   "execution_count": 11,
   "id": "ed98f9cb",
   "metadata": {},
   "outputs": [],
   "source": [
    "def get_waveform_and_label(file_path):\n",
    "    label = get_label(file_path[0])\n",
    "    ae_audio_binary = tf.io.read_file(file_path[0])\n",
    "    ae_waveform = decode_ae(ae_audio_binary)\n",
    "    vi_audio_binary = tf.io.read_file(file_path[1])\n",
    "    vi_waveform1, vi_waveform2 = decode_vi(vi_audio_binary)\n",
    "    return ae_waveform, vi_waveform1, vi_waveform2, label"
   ]
  },
  {
   "cell_type": "code",
   "execution_count": 12,
   "id": "312d0409",
   "metadata": {
    "scrolled": true
   },
   "outputs": [],
   "source": [
    "AUTOTUNE = tf.data.AUTOTUNE\n",
    "files_ds = tf.data.Dataset.from_tensor_slices(train_files)\n",
    "waveform_ds = files_ds.map(get_waveform_and_label, num_parallel_calls=AUTOTUNE)"
   ]
  },
  {
   "cell_type": "code",
   "execution_count": 13,
   "id": "52f72d5b",
   "metadata": {
    "scrolled": false
   },
   "outputs": [
    {
     "data": {
      "image/png": "[encoded data removed]",
      "text/plain": [
       "<Figure size 720x864 with 9 Axes>"
      ]
     },
     "metadata": {
      "needs_background": "light"
     },
     "output_type": "display_data"
    }
   ],
   "source": [
    "rows = 3\n",
    "cols = 3\n",
    "n = rows*cols\n",
    "fig, axes = plt.subplots(rows, cols, figsize=(10, 12))\n",
    "for i, (ae_audio, vi_audio1, vi_audio2, label) in enumerate(waveform_ds.take(n)):\n",
    "    r = i // cols\n",
    "    c = i % cols\n",
    "    ax = axes[r][c]\n",
    "    ax.plot(ae_audio.numpy())\n",
    "    ax.set_yticks(np.arange(-1.2, 1.2, 0.2))\n",
    "    label = label.numpy().decode('utf-8')\n",
    "    ax.set_title(label)\n",
    "\n",
    "plt.show()"
   ]
  },
  {
   "cell_type": "markdown",
   "id": "8959e066",
   "metadata": {},
   "source": [
    "### Spectrogram"
   ]
  },
  {
   "cell_type": "code",
   "execution_count": 14,
   "id": "3ed72b82",
   "metadata": {},
   "outputs": [],
   "source": [
    "def get_spectrogram(waveform):\n",
    "\n",
    "  # Concatenate audio with padding so that all audio clips will be of the \n",
    "  # same length\n",
    "    waveform = tf.cast(waveform, tf.float32)\n",
    "    waveform = tf.reshape(waveform, [5, -1])  # shape(5, 1000000)\n",
    "#     print(waveform.shape)\n",
    "#   spectrogram shape (t, f) -> ()\n",
    "\n",
    "    spectrogram0 = tf.signal.stft(\n",
    "            waveform[0], frame_length=1024,frame_step=512, fft_length=1024,\n",
    "            window_fn=tf.signal.hann_window, pad_end=False, name=None)\n",
    "    spectrogram0 = tf.expand_dims(spectrogram0, -1)\n",
    "    spectrogram1 = tf.signal.stft(\n",
    "            waveform[1], frame_length=1024,frame_step=512, fft_length=1024,\n",
    "            window_fn=tf.signal.hann_window, pad_end=False, name=None)\n",
    "    spectrogram1 = tf.expand_dims(spectrogram1, -1)\n",
    "    spectrogram2 = tf.signal.stft(\n",
    "            waveform[2], frame_length=1024,frame_step=512, fft_length=1024,\n",
    "            window_fn=tf.signal.hann_window, pad_end=False, name=None)\n",
    "    spectrogram2 = tf.expand_dims(spectrogram2, -1)\n",
    "    spectrogram3 = tf.signal.stft(\n",
    "            waveform[3], frame_length=1024,frame_step=512, fft_length=1024,\n",
    "            window_fn=tf.signal.hann_window, pad_end=False, name=None)\n",
    "    spectrogram3 = tf.expand_dims(spectrogram3, -1)\n",
    "    spectrogram4 = tf.signal.stft(\n",
    "            waveform[4], frame_length=1024,frame_step=512, fft_length=1024,\n",
    "            window_fn=tf.signal.hann_window, pad_end=False, name=None)\n",
    "    spectrogram4 = tf.expand_dims(spectrogram4, -1)\n",
    "    \n",
    "    spectrogram = tf.concat([spectrogram0, spectrogram1,spectrogram2,spectrogram3,spectrogram4], -1)\n",
    "    \n",
    "    \n",
    "#     spectrogram = tf.stack([tf.signal.stft(\n",
    "#             wf, frame_length=1024,frame_step=512, fft_length=1024,\n",
    "#             window_fn=tf.signal.hann_window, pad_end=False, name=None)] for wf in waveform[:])\n",
    "#     spectrogram = tf.expand_dims(spectrogram, -1)\n",
    "    \n",
    "    \n",
    "    spectrogram = tf.abs(spectrogram)\n",
    "    spectrogram = spectrogram[:1024, :512, :]\n",
    "\n",
    "    return spectrogram\n",
    "\n",
    "def get_spectrogram_v(waveform):\n",
    "\n",
    "  # Concatenate audio with padding so that all audio clips will be of the \n",
    "  # same length\n",
    "    waveform = tf.cast(waveform, tf.float32)\n",
    "    spectrogram = tf.signal.stft(\n",
    "        waveform, frame_length=512,frame_step=256, fft_length=512,\n",
    "        window_fn=tf.signal.hann_window, pad_end=False, name=None)\n",
    "\n",
    "    spectrogram = tf.abs(spectrogram)\n",
    "    spectrogram = spectrogram[:, :]\n",
    "\n",
    "    return spectrogram"
   ]
  },
  {
   "cell_type": "code",
   "execution_count": 16,
   "id": "eef388c0",
   "metadata": {},
   "outputs": [
    {
     "name": "stdout",
     "output_type": "stream",
     "text": [
      "Label: row01\n",
      "Waveform 1 shape: (5000000,)\n",
      "Waveform 2 shape: (10000,)\n",
      "Waveform 3 shape: (10000,)\n",
      "Spectrogram ae shape: (1024, 512, 5)\n",
      "Spectrogram vi1 shape: (38, 257)\n",
      "Spectrogram vi2 shape: (38, 257)\n"
     ]
    }
   ],
   "source": [
    "for ae_waveform, vi_waveform1, vi_waveform2, label in waveform_ds.take(1):\n",
    "    label = label.numpy().decode('utf-8')\n",
    "    spectrogram_ae = get_spectrogram(ae_waveform)\n",
    "    spectrogram_vi1 = get_spectrogram_v(vi_waveform1)\n",
    "    spectrogram_vi2 = get_spectrogram_v(vi_waveform2)\n",
    "print('Label:', label)\n",
    "print('Waveform 1 shape:', ae_waveform.shape)\n",
    "print('Waveform 2 shape:', vi_waveform1.shape)\n",
    "print('Waveform 3 shape:', vi_waveform2.shape)\n",
    "print('Spectrogram ae shape:', spectrogram_ae.shape)\n",
    "print('Spectrogram vi1 shape:', spectrogram_vi1.shape)\n",
    "print('Spectrogram vi2 shape:', spectrogram_vi2.shape)"
   ]
  },
  {
   "cell_type": "code",
   "execution_count": 16,
   "id": "81ebbfc2",
   "metadata": {
    "scrolled": false
   },
   "outputs": [
    {
     "name": "stderr",
     "output_type": "stream",
     "text": [
      "/home/a00439/tf2/lib/python3.6/site-packages/ipykernel_launcher.py:9: MatplotlibDeprecationWarning: shading='flat' when X and Y have the same dimensions as C is deprecated since 3.3.  Either specify the corners of the quadrilaterals with X and Y, or pass shading='auto', 'nearest' or 'gouraud', or set rcParams['pcolor.shading'].  This will become an error two minor releases later.\n",
      "  if __name__ == '__main__':\n"
     ]
    },
    {
     "data": {
      "image/png": "[encoded data removed]",
      "text/plain": [
       "<Figure size 864x576 with 2 Axes>"
      ]
     },
     "metadata": {
      "needs_background": "light"
     },
     "output_type": "display_data"
    }
   ],
   "source": [
    "# def plot_spectrogram(spectrogram, ax):\n",
    "#   # Convert to frequencies to log scale and transpose so that the time is\n",
    "#   # represented in the x-axis (columns).\n",
    "#     log_spec = np.log(spectrogram[0])\n",
    "#     height = log_spec.shape[0]\n",
    "#     width = log_spec.shape[1]\n",
    "#     X = np.linspace(0, np.size(spectrogram), num=width, dtype=int)\n",
    "#     Y = range(height)\n",
    "#     ax.pcolormesh(X, Y, log_spec)\n",
    "\n",
    "\n",
    "# fig, axes = plt.subplots(2, figsize=(12, 8))\n",
    "# timescale = np.arange(waveform.shape[0])\n",
    "# axes[0].plot(timescale, waveform.numpy())\n",
    "# axes[0].set_title('Waveform')\n",
    "# axes[0].set_xlim([0, 100000])\n",
    "# plot_spectrogram(spectrogram.numpy(), axes[1])\n",
    "# axes[1].set_title('Spectrogram')\n",
    "# plt.show()"
   ]
  },
  {
   "cell_type": "code",
   "execution_count": 17,
   "id": "6679bf7c",
   "metadata": {},
   "outputs": [],
   "source": [
    "def get_spectrogram_and_label_id(ae_audio, vi_audio1, vi_audio2, label):\n",
    "    spectrogram_ae = get_spectrogram(ae_audio)\n",
    "    spectrogram_vi1 = get_spectrogram_v(vi_audio1)\n",
    "    spectrogram_vi1 = tf.expand_dims(spectrogram_vi1, -1)\n",
    "    spectrogram_vi2 = get_spectrogram_v(vi_audio2)\n",
    "    spectrogram_vi2 = tf.expand_dims(spectrogram_vi2, -1)\n",
    "    label_id = tf.argmax(label == commands)\n",
    "    return (spectrogram_ae, spectrogram_vi1, spectrogram_vi2), label_id"
   ]
  },
  {
   "cell_type": "code",
   "execution_count": 18,
   "id": "304f6566",
   "metadata": {
    "scrolled": true
   },
   "outputs": [],
   "source": [
    "spectrogram_ds = waveform_ds.map(\n",
    "    get_spectrogram_and_label_id, num_parallel_calls=AUTOTUNE)"
   ]
  },
  {
   "cell_type": "code",
   "execution_count": 128,
   "id": "cdaf3292",
   "metadata": {
    "scrolled": false
   },
   "outputs": [],
   "source": [
    "# rows = 3\n",
    "# cols = 3\n",
    "# n = rows*cols\n",
    "# fig, axes = plt.subplots(rows, cols, figsize=(10, 10))\n",
    "# for i, (spectrogram, label_id) in enumerate(spectrogram_ds.take(n)):\n",
    "#     r = i // cols\n",
    "#     c = i % cols\n",
    "#     ax = axes[r][c]\n",
    "#     plot_spectrogram(np.squeeze(spectrogram.numpy()), ax)\n",
    "#     ax.set_title(commands[label_id.numpy()])\n",
    "#     ax.axis('off')\n",
    "\n",
    "# plt.show()"
   ]
  },
  {
   "cell_type": "markdown",
   "id": "8a49cf5f",
   "metadata": {},
   "source": [
    "### Build and train the model"
   ]
  },
  {
   "cell_type": "code",
   "execution_count": 19,
   "id": "de13f61c",
   "metadata": {},
   "outputs": [],
   "source": [
    "def preprocess_dataset(files):\n",
    "    files_ds = tf.data.Dataset.from_tensor_slices(files)\n",
    "    output_ds = files_ds.map(get_waveform_and_label, num_parallel_calls=AUTOTUNE)\n",
    "    output_ds = output_ds.map(\n",
    "        get_spectrogram_and_label_id,  num_parallel_calls=AUTOTUNE)\n",
    "    return output_ds"
   ]
  },
  {
   "cell_type": "code",
   "execution_count": 20,
   "id": "bb8f3a8b",
   "metadata": {},
   "outputs": [],
   "source": [
    "train_ds = spectrogram_ds\n",
    "val_ds = preprocess_dataset(val_files)\n",
    "test_ds = preprocess_dataset(test_files)"
   ]
  },
  {
   "cell_type": "code",
   "execution_count": 21,
   "id": "1589c93d",
   "metadata": {},
   "outputs": [],
   "source": [
    "batch_size = 8\n",
    "train_ds = train_ds.batch(batch_size)\n",
    "val_ds = val_ds.batch(batch_size)"
   ]
  },
  {
   "cell_type": "code",
   "execution_count": 22,
   "id": "acd1ee04",
   "metadata": {},
   "outputs": [],
   "source": [
    "train_ds = train_ds.cache().prefetch(AUTOTUNE)\n",
    "val_ds = val_ds.cache().prefetch(AUTOTUNE)"
   ]
  },
  {
   "cell_type": "code",
   "execution_count": 23,
   "id": "2cd6f2f5",
   "metadata": {},
   "outputs": [
    {
     "name": "stdout",
     "output_type": "stream",
     "text": [
      "Input 1 shape: (1024, 512, 5)\n",
      "Input 2 shape: (38, 257, 1)\n",
      "Input 3 shape: (38, 257, 1)\n"
     ]
    }
   ],
   "source": [
    "for (ae_spectrogram, vi_spectrogram1, vi_spectrogram2), _ in spectrogram_ds.take(1):\n",
    "    input_shape1 = ae_spectrogram.shape\n",
    "    input_shape2 = vi_spectrogram1.shape\n",
    "    input_shape3 = vi_spectrogram2.shape\n",
    "print('Input 1 shape:', input_shape1)\n",
    "print('Input 2 shape:', input_shape2)\n",
    "print('Input 3 shape:', input_shape3)\n",
    "num_labels = len(commands)\n",
    "# norm_layer = preprocessing.Normalization()\n",
    "# norm_layer.adapt(spectrogram_ds.map(lambda x, _: x))\n",
    "# Saving and Loading Normalization Weights\n",
    "# np.save(\"norm_weights.npy\", norm_layer.get_weights())\n",
    "# norm_layer.set_weights(np.load(\"norm_weights.npy\",allow_pickle=True))"
   ]
  },
  {
   "cell_type": "code",
   "execution_count": 49,
   "id": "4d673f19",
   "metadata": {
    "scrolled": true
   },
   "outputs": [
    {
     "name": "stdout",
     "output_type": "stream",
     "text": [
      "Model: \"model_8\"\n",
      "__________________________________________________________________________________________________\n",
      "Layer (type)                    Output Shape         Param #     Connected to                     \n",
      "==================================================================================================\n",
      "V1_Input (InputLayer)           [(None, 1024, 512, 5 0                                            \n",
      "__________________________________________________________________________________________________\n",
      "resizing_26 (Resizing)          (None, 128, 128, 5)  0           V1_Input[0][0]                   \n",
      "__________________________________________________________________________________________________\n",
      "hidden1_1 (Conv2D)              (None, 126, 126, 16) 736         resizing_26[0][0]                \n",
      "__________________________________________________________________________________________________\n",
      "V2_Input (InputLayer)           [(None, 38, 257, 1)] 0                                            \n",
      "__________________________________________________________________________________________________\n",
      "hidden1_2 (Conv2D)              (None, 124, 124, 32) 4640        hidden1_1[0][0]                  \n",
      "__________________________________________________________________________________________________\n",
      "resizing_27 (Resizing)          (None, 32, 64, 1)    0           V2_Input[0][0]                   \n",
      "__________________________________________________________________________________________________\n",
      "max_pooling2d_28 (MaxPooling2D) (None, 62, 62, 32)   0           hidden1_2[0][0]                  \n",
      "__________________________________________________________________________________________________\n",
      "hidden2_1 (Conv2D)              (None, 30, 62, 16)   160         resizing_27[0][0]                \n",
      "__________________________________________________________________________________________________\n",
      "hidden1_3 (Conv2D)              (None, 60, 60, 32)   9248        max_pooling2d_28[0][0]           \n",
      "__________________________________________________________________________________________________\n",
      "hidden2_2 (Conv2D)              (None, 28, 60, 32)   4640        hidden2_1[0][0]                  \n",
      "__________________________________________________________________________________________________\n",
      "max_pooling2d_29 (MaxPooling2D) (None, 30, 30, 32)   0           hidden1_3[0][0]                  \n",
      "__________________________________________________________________________________________________\n",
      "max_pooling2d_30 (MaxPooling2D) (None, 14, 30, 32)   0           hidden2_2[0][0]                  \n",
      "__________________________________________________________________________________________________\n",
      "dropout_26 (Dropout)            (None, 30, 30, 32)   0           max_pooling2d_29[0][0]           \n",
      "__________________________________________________________________________________________________\n",
      "dropout_27 (Dropout)            (None, 14, 30, 32)   0           max_pooling2d_30[0][0]           \n",
      "__________________________________________________________________________________________________\n",
      "flatten_24 (Flatten)            (None, 28800)        0           dropout_26[0][0]                 \n",
      "__________________________________________________________________________________________________\n",
      "flatten_25 (Flatten)            (None, 13440)        0           dropout_27[0][0]                 \n",
      "__________________________________________________________________________________________________\n",
      "flatten_26 (Flatten)            (None, 13440)        0           dropout_27[0][0]                 \n",
      "__________________________________________________________________________________________________\n",
      "concatenate_8 (Concatenate)     (None, 55680)        0           flatten_24[0][0]                 \n",
      "                                                                 flatten_25[0][0]                 \n",
      "                                                                 flatten_26[0][0]                 \n",
      "__________________________________________________________________________________________________\n",
      "hidden4_1 (Dense)               (None, 128)          7127168     concatenate_8[0][0]              \n",
      "__________________________________________________________________________________________________\n",
      "hidden4_2 (Dense)               (None, 64)           8256        hidden4_1[0][0]                  \n",
      "__________________________________________________________________________________________________\n",
      "dropout_29 (Dropout)            (None, 64)           0           hidden4_2[0][0]                  \n",
      "__________________________________________________________________________________________________\n",
      "V3_Input (InputLayer)           [(None, 38, 257, 1)] 0                                            \n",
      "__________________________________________________________________________________________________\n",
      "Output (Dense)                  (None, 6)            390         dropout_29[0][0]                 \n",
      "==================================================================================================\n",
      "Total params: 7,155,238\n",
      "Trainable params: 7,155,238\n",
      "Non-trainable params: 0\n",
      "__________________________________________________________________________________________________\n"
     ]
    }
   ],
   "source": [
    "# model = models.Sequential([\n",
    "#     layers.Input(shape=input_shape),\n",
    "#     preprocessing.Resizing(64, 64), \n",
    "#     norm_layer,\n",
    "#     layers.Conv2D(16, 3, activation='relu'),\n",
    "#     layers.Conv2D(32, 3, activation='relu'),\n",
    "#     layers.MaxPooling2D(),\n",
    "#     layers.Conv2D(32, 3, activation='relu'),\n",
    "#     layers.MaxPooling2D(),\n",
    "#     layers.Dropout(0.25),\n",
    "#     layers.Flatten(),\n",
    "#     layers.Dense(128, activation='relu'),\n",
    "#     layers.Dense(64, activation='relu'),\n",
    "#     layers.Dropout(0.5),\n",
    "#     layers.Dense(num_labels),\n",
    "# ])\n",
    "\n",
    "from tensorflow import keras\n",
    "# Input Layer\n",
    "v1_input = keras.Input(shape=input_shape1, name='V1_Input')\n",
    "v2_input = keras.Input(shape=input_shape2, name='V2_Input')\n",
    "v3_input = keras.Input(shape=input_shape3, name='V3_Input')\n",
    "\n",
    "# Hidden Layer\n",
    "h1_0 = preprocessing.Resizing(128, 128)(v1_input)\n",
    "h1_1 = layers.Conv2D(16,3,strides=1,activation='relu', name='hidden1_1')(h1_0)\n",
    "h1_2 = layers.Conv2D(32,3,strides=1,activation='relu', name='hidden1_2')(h1_1)\n",
    "h1_3 = layers.MaxPooling2D()(h1_2)\n",
    "h1_4 = layers.Conv2D(32,3,strides=1,activation='relu', name='hidden1_3')(h1_3)\n",
    "h1_5 = layers.MaxPooling2D()(h1_4)\n",
    "h1_6 = layers.Dropout(0.25)(h1_5)\n",
    "h1_7_ft = layers.Flatten()(h1_6)\n",
    "\n",
    "h2_0 = preprocessing.Resizing(32, 64)(v2_input)\n",
    "h2_1 = layers.Conv2D(16,3,strides=1,activation='relu', name='hidden2_1')(h2_0)\n",
    "h2_2 = layers.Conv2D(32,3,strides=1,activation='relu', name='hidden2_2')(h2_1)\n",
    "h2_3 = layers.MaxPooling2D()(h2_2)\n",
    "h2_4 = layers.Dropout(0.25)(h2_3)\n",
    "h2_5_ft = layers.Flatten()(h2_4)\n",
    "\n",
    "h3_0 = preprocessing.Resizing(32, 64)(v3_input)\n",
    "h3_1 = layers.Conv2D(16,3,strides=1,activation='relu', name='hidden3_1')(h3_0)\n",
    "h3_2 = layers.Conv2D(32,3,strides=1,activation='relu', name='hidden3_2')(h3_1)\n",
    "h3_3 = layers.MaxPooling2D()(h3_2)\n",
    "h3_4 = layers.Dropout(0.25)(h3_3)\n",
    "h3_5_ft = layers.Flatten()(h2_4)\n",
    "\n",
    "concat = layers.Concatenate()([h1_7_ft, h2_5_ft, h3_5_ft])\n",
    "h4_1 = layers.Dense(128, activation='relu', name='hidden4_1')(concat)\n",
    "h4_2 = layers.Dense(64, activation='relu', name='hidden4_2')(h4_1)\n",
    "h4_3 = layers.Dropout(0.5)(h4_2)\n",
    "\n",
    "# Output Layer\n",
    "outputs = layers.Dense(num_labels, name='Output')(h4_3)\n",
    "\n",
    "# Create Model\n",
    "model = keras.Model(inputs=[v1_input, v2_input, v3_input], outputs=outputs)\n",
    "\n",
    "\n",
    "\n",
    "model.summary()"
   ]
  },
  {
   "cell_type": "code",
   "execution_count": 50,
   "id": "9b31604b",
   "metadata": {},
   "outputs": [],
   "source": [
    "model.compile(\n",
    "    optimizer=tf.keras.optimizers.Adam(),\n",
    "    loss=tf.keras.losses.SparseCategoricalCrossentropy(from_logits=True),\n",
    "    metrics=['accuracy'],\n",
    ")"
   ]
  },
  {
   "cell_type": "code",
   "execution_count": 51,
   "id": "3a41a8aa",
   "metadata": {},
   "outputs": [
    {
     "name": "stdout",
     "output_type": "stream",
     "text": [
      "Epoch 1/20\n",
      "258/258 [==============================] - 19s 73ms/step - loss: 1.3419 - accuracy: 0.6880 - val_loss: 0.0294 - val_accuracy: 0.9961\n",
      "Epoch 2/20\n",
      "258/258 [==============================] - 19s 73ms/step - loss: 0.1628 - accuracy: 0.9506 - val_loss: 0.0629 - val_accuracy: 0.9845\n",
      "Epoch 3/20\n",
      "258/258 [==============================] - 19s 73ms/step - loss: 0.0540 - accuracy: 0.9826 - val_loss: 0.0336 - val_accuracy: 0.9922\n",
      "Epoch 00003: early stopping\n"
     ]
    }
   ],
   "source": [
    "EPOCHS = 20\n",
    "history = model.fit(\n",
    "    train_ds, \n",
    "    validation_data=val_ds,  \n",
    "    epochs=EPOCHS,\n",
    "    callbacks=tf.keras.callbacks.EarlyStopping(verbose=1, patience=2),\n",
    ")"
   ]
  },
  {
   "cell_type": "code",
   "execution_count": 46,
   "id": "82a688ea",
   "metadata": {
    "scrolled": true
   },
   "outputs": [
    {
     "data": {
      "image/png": "[encoded data removed]",
      "text/plain": [
       "<Figure size 432x288 with 1 Axes>"
      ]
     },
     "metadata": {
      "needs_background": "light"
     },
     "output_type": "display_data"
    }
   ],
   "source": [
    "metrics = history.history\n",
    "plt.plot(history.epoch, metrics['loss'], metrics['val_loss'])\n",
    "plt.legend(['loss', 'val_loss'])\n",
    "plt.show()"
   ]
  },
  {
   "cell_type": "markdown",
   "id": "ad8ee03a",
   "metadata": {},
   "source": [
    "### Evaluate test set performance"
   ]
  },
  {
   "cell_type": "code",
   "execution_count": 52,
   "id": "6cf4c8f9",
   "metadata": {},
   "outputs": [],
   "source": [
    "test_audio1 = []\n",
    "test_audio2 = []\n",
    "test_audio3 = []\n",
    "test_labels = []\n",
    "\n",
    "for (audio1, audio2, audio3), label in test_ds:\n",
    "    test_audio1.append(audio1.numpy())\n",
    "    test_audio2.append(audio2.numpy())\n",
    "    test_audio3.append(audio3.numpy())\n",
    "    test_labels.append(label.numpy())\n",
    "\n",
    "test_audio1 = np.array(test_audio1)\n",
    "test_audio2 = np.array(test_audio2)\n",
    "test_audio3 = np.array(test_audio3)\n",
    "test_labels = np.array(test_labels)"
   ]
  },
  {
   "cell_type": "code",
   "execution_count": 55,
   "id": "3aa41fdd",
   "metadata": {},
   "outputs": [
    {
     "name": "stdout",
     "output_type": "stream",
     "text": [
      "Test set accuracy: 99%\n"
     ]
    }
   ],
   "source": [
    "y_pred = np.argmax(model.predict((test_audio1, test_audio2, test_audio3)), axis=1)\n",
    "y_true = test_labels\n",
    "\n",
    "test_acc = sum(y_pred == y_true) / len(y_true)\n",
    "print(f'Test set accuracy: {test_acc:.0%}')"
   ]
  },
  {
   "cell_type": "markdown",
   "id": "f5c37f6f",
   "metadata": {},
   "source": [
    "### Display a confusion matrix"
   ]
  },
  {
   "cell_type": "code",
   "execution_count": 56,
   "id": "a33ca9e3",
   "metadata": {},
   "outputs": [
    {
     "data": {
      "image/png": "[encoded data removed]",
      "text/plain": [
       "<Figure size 720x576 with 2 Axes>"
      ]
     },
     "metadata": {
      "needs_background": "light"
     },
     "output_type": "display_data"
    }
   ],
   "source": [
    "confusion_mtx = tf.math.confusion_matrix(y_true, y_pred) \n",
    "plt.figure(figsize=(10, 8))\n",
    "sns.heatmap(confusion_mtx, xticklabels=commands, yticklabels=commands, \n",
    "            annot=True, fmt='g')\n",
    "plt.xlabel('Prediction')\n",
    "plt.ylabel('Label')\n",
    "plt.show()"
   ]
  },
  {
   "cell_type": "markdown",
   "id": "76f17781",
   "metadata": {},
   "source": [
    "### Run inference on an audio file"
   ]
  },
  {
   "cell_type": "code",
   "execution_count": 57,
   "id": "2d6ded99",
   "metadata": {},
   "outputs": [
    {
     "ename": "ValueError",
     "evalue": "in user code:\n\n    <ipython-input-11-4cf1506fee82>:2 get_waveform_and_label  *\n        label = get_label(file_path[0])\n    /home/a00439/tf2/lib/python3.6/site-packages/tensorflow/python/util/dispatch.py:206 wrapper\n        return target(*args, **kwargs)\n    /home/a00439/tf2/lib/python3.6/site-packages/tensorflow/python/ops/array_ops.py:1051 _slice_helper\n        name=name)\n    /home/a00439/tf2/lib/python3.6/site-packages/tensorflow/python/util/dispatch.py:206 wrapper\n        return target(*args, **kwargs)\n    /home/a00439/tf2/lib/python3.6/site-packages/tensorflow/python/ops/array_ops.py:1223 strided_slice\n        shrink_axis_mask=shrink_axis_mask)\n    /home/a00439/tf2/lib/python3.6/site-packages/tensorflow/python/ops/gen_array_ops.py:10537 strided_slice\n        shrink_axis_mask=shrink_axis_mask, name=name)\n    /home/a00439/tf2/lib/python3.6/site-packages/tensorflow/python/framework/op_def_library.py:750 _apply_op_helper\n        attrs=attr_protos, op_def=op_def)\n    /home/a00439/tf2/lib/python3.6/site-packages/tensorflow/python/framework/func_graph.py:601 _create_op_internal\n        compute_device)\n    /home/a00439/tf2/lib/python3.6/site-packages/tensorflow/python/framework/ops.py:3565 _create_op_internal\n        op_def=op_def)\n    /home/a00439/tf2/lib/python3.6/site-packages/tensorflow/python/framework/ops.py:2042 __init__\n        control_input_ops, op_def)\n    /home/a00439/tf2/lib/python3.6/site-packages/tensorflow/python/framework/ops.py:1883 _create_c_op\n        raise ValueError(str(e))\n\n    ValueError: Index out of range using input dim 0; input has only 0 dims for '{{node strided_slice}} = StridedSlice[Index=DT_INT32, T=DT_STRING, begin_mask=0, ellipsis_mask=0, end_mask=0, new_axis_mask=0, shrink_axis_mask=1](args_0, strided_slice/stack, strided_slice/stack_1, strided_slice/stack_2)' with input shapes: [], [1], [1], [1] and with computed input tensors: input[3] = <1>.\n",
     "output_type": "error",
     "traceback": [
      "\u001b[0;31m---------------------------------------------------------------------------\u001b[0m",
      "\u001b[0;31mValueError\u001b[0m                                Traceback (most recent call last)",
      "\u001b[0;32m<ipython-input-57-1aa422d9f203>\u001b[0m in \u001b[0;36m<module>\u001b[0;34m\u001b[0m\n\u001b[0;32m----> 1\u001b[0;31m \u001b[0msample_file\u001b[0m \u001b[0;34m=\u001b[0m \u001b[0mpreprocess_dataset\u001b[0m\u001b[0;34m(\u001b[0m\u001b[0;34m[\u001b[0m\u001b[0;34m'/media/a00439/2C167E66167E30C6/AEdata/20181225_0310_row01_feed200um_2_sof3/row01/AEdate_280.lvm'\u001b[0m\u001b[0;34m]\u001b[0m\u001b[0;34m)\u001b[0m\u001b[0;34m\u001b[0m\u001b[0;34m\u001b[0m\u001b[0m\n\u001b[0m\u001b[1;32m      2\u001b[0m \u001b[0;34m\u001b[0m\u001b[0m\n\u001b[1;32m      3\u001b[0m \u001b[0msample_ds\u001b[0m \u001b[0;34m=\u001b[0m \u001b[0msample_file\u001b[0m\u001b[0;34m\u001b[0m\u001b[0;34m\u001b[0m\u001b[0m\n\u001b[1;32m      4\u001b[0m \u001b[0;34m\u001b[0m\u001b[0m\n\u001b[1;32m      5\u001b[0m \u001b[0;32mfor\u001b[0m \u001b[0mspectrogram\u001b[0m\u001b[0;34m,\u001b[0m \u001b[0mlabel\u001b[0m \u001b[0;32min\u001b[0m \u001b[0msample_ds\u001b[0m\u001b[0;34m.\u001b[0m\u001b[0mbatch\u001b[0m\u001b[0;34m(\u001b[0m\u001b[0;36m1\u001b[0m\u001b[0;34m)\u001b[0m\u001b[0;34m:\u001b[0m\u001b[0;34m\u001b[0m\u001b[0;34m\u001b[0m\u001b[0m\n",
      "\u001b[0;32m<ipython-input-19-0089adec4296>\u001b[0m in \u001b[0;36mpreprocess_dataset\u001b[0;34m(files)\u001b[0m\n\u001b[1;32m      1\u001b[0m \u001b[0;32mdef\u001b[0m \u001b[0mpreprocess_dataset\u001b[0m\u001b[0;34m(\u001b[0m\u001b[0mfiles\u001b[0m\u001b[0;34m)\u001b[0m\u001b[0;34m:\u001b[0m\u001b[0;34m\u001b[0m\u001b[0;34m\u001b[0m\u001b[0m\n\u001b[1;32m      2\u001b[0m     \u001b[0mfiles_ds\u001b[0m \u001b[0;34m=\u001b[0m \u001b[0mtf\u001b[0m\u001b[0;34m.\u001b[0m\u001b[0mdata\u001b[0m\u001b[0;34m.\u001b[0m\u001b[0mDataset\u001b[0m\u001b[0;34m.\u001b[0m\u001b[0mfrom_tensor_slices\u001b[0m\u001b[0;34m(\u001b[0m\u001b[0mfiles\u001b[0m\u001b[0;34m)\u001b[0m\u001b[0;34m\u001b[0m\u001b[0;34m\u001b[0m\u001b[0m\n\u001b[0;32m----> 3\u001b[0;31m     \u001b[0moutput_ds\u001b[0m \u001b[0;34m=\u001b[0m \u001b[0mfiles_ds\u001b[0m\u001b[0;34m.\u001b[0m\u001b[0mmap\u001b[0m\u001b[0;34m(\u001b[0m\u001b[0mget_waveform_and_label\u001b[0m\u001b[0;34m,\u001b[0m \u001b[0mnum_parallel_calls\u001b[0m\u001b[0;34m=\u001b[0m\u001b[0mAUTOTUNE\u001b[0m\u001b[0;34m)\u001b[0m\u001b[0;34m\u001b[0m\u001b[0;34m\u001b[0m\u001b[0m\n\u001b[0m\u001b[1;32m      4\u001b[0m     output_ds = output_ds.map(\n\u001b[1;32m      5\u001b[0m         get_spectrogram_and_label_id,  num_parallel_calls=AUTOTUNE)\n",
      "\u001b[0;32m~/tf2/lib/python3.6/site-packages/tensorflow/python/data/ops/dataset_ops.py\u001b[0m in \u001b[0;36mmap\u001b[0;34m(self, map_func, num_parallel_calls, deterministic)\u001b[0m\n\u001b[1;32m   1930\u001b[0m           \u001b[0mnum_parallel_calls\u001b[0m\u001b[0;34m,\u001b[0m\u001b[0;34m\u001b[0m\u001b[0;34m\u001b[0m\u001b[0m\n\u001b[1;32m   1931\u001b[0m           \u001b[0mdeterministic\u001b[0m\u001b[0;34m,\u001b[0m\u001b[0;34m\u001b[0m\u001b[0;34m\u001b[0m\u001b[0m\n\u001b[0;32m-> 1932\u001b[0;31m           preserve_cardinality=True)\n\u001b[0m\u001b[1;32m   1933\u001b[0m \u001b[0;34m\u001b[0m\u001b[0m\n\u001b[1;32m   1934\u001b[0m   \u001b[0;32mdef\u001b[0m \u001b[0mflat_map\u001b[0m\u001b[0;34m(\u001b[0m\u001b[0mself\u001b[0m\u001b[0;34m,\u001b[0m \u001b[0mmap_func\u001b[0m\u001b[0;34m)\u001b[0m\u001b[0;34m:\u001b[0m\u001b[0;34m\u001b[0m\u001b[0;34m\u001b[0m\u001b[0m\n",
      "\u001b[0;32m~/tf2/lib/python3.6/site-packages/tensorflow/python/data/ops/dataset_ops.py\u001b[0m in \u001b[0;36m__init__\u001b[0;34m(self, input_dataset, map_func, num_parallel_calls, deterministic, use_inter_op_parallelism, preserve_cardinality, use_legacy_function)\u001b[0m\n\u001b[1;32m   4524\u001b[0m         \u001b[0mself\u001b[0m\u001b[0;34m.\u001b[0m\u001b[0m_transformation_name\u001b[0m\u001b[0;34m(\u001b[0m\u001b[0;34m)\u001b[0m\u001b[0;34m,\u001b[0m\u001b[0;34m\u001b[0m\u001b[0;34m\u001b[0m\u001b[0m\n\u001b[1;32m   4525\u001b[0m         \u001b[0mdataset\u001b[0m\u001b[0;34m=\u001b[0m\u001b[0minput_dataset\u001b[0m\u001b[0;34m,\u001b[0m\u001b[0;34m\u001b[0m\u001b[0;34m\u001b[0m\u001b[0m\n\u001b[0;32m-> 4526\u001b[0;31m         use_legacy_function=use_legacy_function)\n\u001b[0m\u001b[1;32m   4527\u001b[0m     \u001b[0;32mif\u001b[0m \u001b[0mdeterministic\u001b[0m \u001b[0;32mis\u001b[0m \u001b[0;32mNone\u001b[0m\u001b[0;34m:\u001b[0m\u001b[0;34m\u001b[0m\u001b[0;34m\u001b[0m\u001b[0m\n\u001b[1;32m   4528\u001b[0m       \u001b[0mself\u001b[0m\u001b[0;34m.\u001b[0m\u001b[0m_deterministic\u001b[0m \u001b[0;34m=\u001b[0m \u001b[0;34m\"default\"\u001b[0m\u001b[0;34m\u001b[0m\u001b[0;34m\u001b[0m\u001b[0m\n",
      "\u001b[0;32m~/tf2/lib/python3.6/site-packages/tensorflow/python/data/ops/dataset_ops.py\u001b[0m in \u001b[0;36m__init__\u001b[0;34m(self, func, transformation_name, dataset, input_classes, input_shapes, input_types, input_structure, add_to_graph, use_legacy_function, defun_kwargs)\u001b[0m\n\u001b[1;32m   3710\u001b[0m     \u001b[0mresource_tracker\u001b[0m \u001b[0;34m=\u001b[0m \u001b[0mtracking\u001b[0m\u001b[0;34m.\u001b[0m\u001b[0mResourceTracker\u001b[0m\u001b[0;34m(\u001b[0m\u001b[0;34m)\u001b[0m\u001b[0;34m\u001b[0m\u001b[0;34m\u001b[0m\u001b[0m\n\u001b[1;32m   3711\u001b[0m     \u001b[0;32mwith\u001b[0m \u001b[0mtracking\u001b[0m\u001b[0;34m.\u001b[0m\u001b[0mresource_tracker_scope\u001b[0m\u001b[0;34m(\u001b[0m\u001b[0mresource_tracker\u001b[0m\u001b[0;34m)\u001b[0m\u001b[0;34m:\u001b[0m\u001b[0;34m\u001b[0m\u001b[0;34m\u001b[0m\u001b[0m\n\u001b[0;32m-> 3712\u001b[0;31m       \u001b[0mself\u001b[0m\u001b[0;34m.\u001b[0m\u001b[0m_function\u001b[0m \u001b[0;34m=\u001b[0m \u001b[0mfn_factory\u001b[0m\u001b[0;34m(\u001b[0m\u001b[0;34m)\u001b[0m\u001b[0;34m\u001b[0m\u001b[0;34m\u001b[0m\u001b[0m\n\u001b[0m\u001b[1;32m   3713\u001b[0m       \u001b[0;31m# There is no graph to add in eager mode.\u001b[0m\u001b[0;34m\u001b[0m\u001b[0;34m\u001b[0m\u001b[0;34m\u001b[0m\u001b[0m\n\u001b[1;32m   3714\u001b[0m       \u001b[0madd_to_graph\u001b[0m \u001b[0;34m&=\u001b[0m \u001b[0;32mnot\u001b[0m \u001b[0mcontext\u001b[0m\u001b[0;34m.\u001b[0m\u001b[0mexecuting_eagerly\u001b[0m\u001b[0;34m(\u001b[0m\u001b[0;34m)\u001b[0m\u001b[0;34m\u001b[0m\u001b[0;34m\u001b[0m\u001b[0m\n",
      "\u001b[0;32m~/tf2/lib/python3.6/site-packages/tensorflow/python/eager/function.py\u001b[0m in \u001b[0;36mget_concrete_function\u001b[0;34m(self, *args, **kwargs)\u001b[0m\n\u001b[1;32m   3133\u001b[0m     \"\"\"\n\u001b[1;32m   3134\u001b[0m     graph_function = self._get_concrete_function_garbage_collected(\n\u001b[0;32m-> 3135\u001b[0;31m         *args, **kwargs)\n\u001b[0m\u001b[1;32m   3136\u001b[0m     \u001b[0mgraph_function\u001b[0m\u001b[0;34m.\u001b[0m\u001b[0m_garbage_collector\u001b[0m\u001b[0;34m.\u001b[0m\u001b[0mrelease\u001b[0m\u001b[0;34m(\u001b[0m\u001b[0;34m)\u001b[0m  \u001b[0;31m# pylint: disable=protected-access\u001b[0m\u001b[0;34m\u001b[0m\u001b[0;34m\u001b[0m\u001b[0m\n\u001b[1;32m   3137\u001b[0m     \u001b[0;32mreturn\u001b[0m \u001b[0mgraph_function\u001b[0m\u001b[0;34m\u001b[0m\u001b[0;34m\u001b[0m\u001b[0m\n",
      "\u001b[0;32m~/tf2/lib/python3.6/site-packages/tensorflow/python/eager/function.py\u001b[0m in \u001b[0;36m_get_concrete_function_garbage_collected\u001b[0;34m(self, *args, **kwargs)\u001b[0m\n\u001b[1;32m   3098\u001b[0m       \u001b[0margs\u001b[0m\u001b[0;34m,\u001b[0m \u001b[0mkwargs\u001b[0m \u001b[0;34m=\u001b[0m \u001b[0;32mNone\u001b[0m\u001b[0;34m,\u001b[0m \u001b[0;32mNone\u001b[0m\u001b[0;34m\u001b[0m\u001b[0;34m\u001b[0m\u001b[0m\n\u001b[1;32m   3099\u001b[0m     \u001b[0;32mwith\u001b[0m \u001b[0mself\u001b[0m\u001b[0;34m.\u001b[0m\u001b[0m_lock\u001b[0m\u001b[0;34m:\u001b[0m\u001b[0;34m\u001b[0m\u001b[0;34m\u001b[0m\u001b[0m\n\u001b[0;32m-> 3100\u001b[0;31m       \u001b[0mgraph_function\u001b[0m\u001b[0;34m,\u001b[0m \u001b[0m_\u001b[0m \u001b[0;34m=\u001b[0m \u001b[0mself\u001b[0m\u001b[0;34m.\u001b[0m\u001b[0m_maybe_define_function\u001b[0m\u001b[0;34m(\u001b[0m\u001b[0margs\u001b[0m\u001b[0;34m,\u001b[0m \u001b[0mkwargs\u001b[0m\u001b[0;34m)\u001b[0m\u001b[0;34m\u001b[0m\u001b[0;34m\u001b[0m\u001b[0m\n\u001b[0m\u001b[1;32m   3101\u001b[0m       \u001b[0mseen_names\u001b[0m \u001b[0;34m=\u001b[0m \u001b[0mset\u001b[0m\u001b[0;34m(\u001b[0m\u001b[0;34m)\u001b[0m\u001b[0;34m\u001b[0m\u001b[0;34m\u001b[0m\u001b[0m\n\u001b[1;32m   3102\u001b[0m       captured = object_identity.ObjectIdentitySet(\n",
      "\u001b[0;32m~/tf2/lib/python3.6/site-packages/tensorflow/python/eager/function.py\u001b[0m in \u001b[0;36m_maybe_define_function\u001b[0;34m(self, args, kwargs)\u001b[0m\n\u001b[1;32m   3442\u001b[0m \u001b[0;34m\u001b[0m\u001b[0m\n\u001b[1;32m   3443\u001b[0m           \u001b[0mself\u001b[0m\u001b[0;34m.\u001b[0m\u001b[0m_function_cache\u001b[0m\u001b[0;34m.\u001b[0m\u001b[0mmissed\u001b[0m\u001b[0;34m.\u001b[0m\u001b[0madd\u001b[0m\u001b[0;34m(\u001b[0m\u001b[0mcall_context_key\u001b[0m\u001b[0;34m)\u001b[0m\u001b[0;34m\u001b[0m\u001b[0;34m\u001b[0m\u001b[0m\n\u001b[0;32m-> 3444\u001b[0;31m           \u001b[0mgraph_function\u001b[0m \u001b[0;34m=\u001b[0m \u001b[0mself\u001b[0m\u001b[0;34m.\u001b[0m\u001b[0m_create_graph_function\u001b[0m\u001b[0;34m(\u001b[0m\u001b[0margs\u001b[0m\u001b[0;34m,\u001b[0m \u001b[0mkwargs\u001b[0m\u001b[0;34m)\u001b[0m\u001b[0;34m\u001b[0m\u001b[0;34m\u001b[0m\u001b[0m\n\u001b[0m\u001b[1;32m   3445\u001b[0m           \u001b[0mself\u001b[0m\u001b[0;34m.\u001b[0m\u001b[0m_function_cache\u001b[0m\u001b[0;34m.\u001b[0m\u001b[0mprimary\u001b[0m\u001b[0;34m[\u001b[0m\u001b[0mcache_key\u001b[0m\u001b[0;34m]\u001b[0m \u001b[0;34m=\u001b[0m \u001b[0mgraph_function\u001b[0m\u001b[0;34m\u001b[0m\u001b[0;34m\u001b[0m\u001b[0m\n\u001b[1;32m   3446\u001b[0m \u001b[0;34m\u001b[0m\u001b[0m\n",
      "\u001b[0;32m~/tf2/lib/python3.6/site-packages/tensorflow/python/eager/function.py\u001b[0m in \u001b[0;36m_create_graph_function\u001b[0;34m(self, args, kwargs, override_flat_arg_shapes)\u001b[0m\n\u001b[1;32m   3287\u001b[0m             \u001b[0marg_names\u001b[0m\u001b[0;34m=\u001b[0m\u001b[0marg_names\u001b[0m\u001b[0;34m,\u001b[0m\u001b[0;34m\u001b[0m\u001b[0;34m\u001b[0m\u001b[0m\n\u001b[1;32m   3288\u001b[0m             \u001b[0moverride_flat_arg_shapes\u001b[0m\u001b[0;34m=\u001b[0m\u001b[0moverride_flat_arg_shapes\u001b[0m\u001b[0;34m,\u001b[0m\u001b[0;34m\u001b[0m\u001b[0;34m\u001b[0m\u001b[0m\n\u001b[0;32m-> 3289\u001b[0;31m             capture_by_value=self._capture_by_value),\n\u001b[0m\u001b[1;32m   3290\u001b[0m         \u001b[0mself\u001b[0m\u001b[0;34m.\u001b[0m\u001b[0m_function_attributes\u001b[0m\u001b[0;34m,\u001b[0m\u001b[0;34m\u001b[0m\u001b[0;34m\u001b[0m\u001b[0m\n\u001b[1;32m   3291\u001b[0m         \u001b[0mfunction_spec\u001b[0m\u001b[0;34m=\u001b[0m\u001b[0mself\u001b[0m\u001b[0;34m.\u001b[0m\u001b[0mfunction_spec\u001b[0m\u001b[0;34m,\u001b[0m\u001b[0;34m\u001b[0m\u001b[0;34m\u001b[0m\u001b[0m\n",
      "\u001b[0;32m~/tf2/lib/python3.6/site-packages/tensorflow/python/framework/func_graph.py\u001b[0m in \u001b[0;36mfunc_graph_from_py_func\u001b[0;34m(name, python_func, args, kwargs, signature, func_graph, autograph, autograph_options, add_control_dependencies, arg_names, op_return_value, collections, capture_by_value, override_flat_arg_shapes)\u001b[0m\n\u001b[1;32m    997\u001b[0m         \u001b[0m_\u001b[0m\u001b[0;34m,\u001b[0m \u001b[0moriginal_func\u001b[0m \u001b[0;34m=\u001b[0m \u001b[0mtf_decorator\u001b[0m\u001b[0;34m.\u001b[0m\u001b[0munwrap\u001b[0m\u001b[0;34m(\u001b[0m\u001b[0mpython_func\u001b[0m\u001b[0;34m)\u001b[0m\u001b[0;34m\u001b[0m\u001b[0;34m\u001b[0m\u001b[0m\n\u001b[1;32m    998\u001b[0m \u001b[0;34m\u001b[0m\u001b[0m\n\u001b[0;32m--> 999\u001b[0;31m       \u001b[0mfunc_outputs\u001b[0m \u001b[0;34m=\u001b[0m \u001b[0mpython_func\u001b[0m\u001b[0;34m(\u001b[0m\u001b[0;34m*\u001b[0m\u001b[0mfunc_args\u001b[0m\u001b[0;34m,\u001b[0m \u001b[0;34m**\u001b[0m\u001b[0mfunc_kwargs\u001b[0m\u001b[0;34m)\u001b[0m\u001b[0;34m\u001b[0m\u001b[0;34m\u001b[0m\u001b[0m\n\u001b[0m\u001b[1;32m   1000\u001b[0m \u001b[0;34m\u001b[0m\u001b[0m\n\u001b[1;32m   1001\u001b[0m       \u001b[0;31m# invariant: `func_outputs` contains only Tensors, CompositeTensors,\u001b[0m\u001b[0;34m\u001b[0m\u001b[0;34m\u001b[0m\u001b[0;34m\u001b[0m\u001b[0m\n",
      "\u001b[0;32m~/tf2/lib/python3.6/site-packages/tensorflow/python/data/ops/dataset_ops.py\u001b[0m in \u001b[0;36mwrapped_fn\u001b[0;34m(*args)\u001b[0m\n\u001b[1;32m   3685\u001b[0m           attributes=defun_kwargs)\n\u001b[1;32m   3686\u001b[0m       \u001b[0;32mdef\u001b[0m \u001b[0mwrapped_fn\u001b[0m\u001b[0;34m(\u001b[0m\u001b[0;34m*\u001b[0m\u001b[0margs\u001b[0m\u001b[0;34m)\u001b[0m\u001b[0;34m:\u001b[0m  \u001b[0;31m# pylint: disable=missing-docstring\u001b[0m\u001b[0;34m\u001b[0m\u001b[0;34m\u001b[0m\u001b[0m\n\u001b[0;32m-> 3687\u001b[0;31m         \u001b[0mret\u001b[0m \u001b[0;34m=\u001b[0m \u001b[0mwrapper_helper\u001b[0m\u001b[0;34m(\u001b[0m\u001b[0;34m*\u001b[0m\u001b[0margs\u001b[0m\u001b[0;34m)\u001b[0m\u001b[0;34m\u001b[0m\u001b[0;34m\u001b[0m\u001b[0m\n\u001b[0m\u001b[1;32m   3688\u001b[0m         \u001b[0mret\u001b[0m \u001b[0;34m=\u001b[0m \u001b[0mstructure\u001b[0m\u001b[0;34m.\u001b[0m\u001b[0mto_tensor_list\u001b[0m\u001b[0;34m(\u001b[0m\u001b[0mself\u001b[0m\u001b[0;34m.\u001b[0m\u001b[0m_output_structure\u001b[0m\u001b[0;34m,\u001b[0m \u001b[0mret\u001b[0m\u001b[0;34m)\u001b[0m\u001b[0;34m\u001b[0m\u001b[0;34m\u001b[0m\u001b[0m\n\u001b[1;32m   3689\u001b[0m         \u001b[0;32mreturn\u001b[0m \u001b[0;34m[\u001b[0m\u001b[0mops\u001b[0m\u001b[0;34m.\u001b[0m\u001b[0mconvert_to_tensor\u001b[0m\u001b[0;34m(\u001b[0m\u001b[0mt\u001b[0m\u001b[0;34m)\u001b[0m \u001b[0;32mfor\u001b[0m \u001b[0mt\u001b[0m \u001b[0;32min\u001b[0m \u001b[0mret\u001b[0m\u001b[0;34m]\u001b[0m\u001b[0;34m\u001b[0m\u001b[0;34m\u001b[0m\u001b[0m\n",
      "\u001b[0;32m~/tf2/lib/python3.6/site-packages/tensorflow/python/data/ops/dataset_ops.py\u001b[0m in \u001b[0;36mwrapper_helper\u001b[0;34m(*args)\u001b[0m\n\u001b[1;32m   3615\u001b[0m       \u001b[0;32mif\u001b[0m \u001b[0;32mnot\u001b[0m \u001b[0m_should_unpack\u001b[0m\u001b[0;34m(\u001b[0m\u001b[0mnested_args\u001b[0m\u001b[0;34m)\u001b[0m\u001b[0;34m:\u001b[0m\u001b[0;34m\u001b[0m\u001b[0;34m\u001b[0m\u001b[0m\n\u001b[1;32m   3616\u001b[0m         \u001b[0mnested_args\u001b[0m \u001b[0;34m=\u001b[0m \u001b[0;34m(\u001b[0m\u001b[0mnested_args\u001b[0m\u001b[0;34m,\u001b[0m\u001b[0;34m)\u001b[0m\u001b[0;34m\u001b[0m\u001b[0;34m\u001b[0m\u001b[0m\n\u001b[0;32m-> 3617\u001b[0;31m       \u001b[0mret\u001b[0m \u001b[0;34m=\u001b[0m \u001b[0mautograph\u001b[0m\u001b[0;34m.\u001b[0m\u001b[0mtf_convert\u001b[0m\u001b[0;34m(\u001b[0m\u001b[0mself\u001b[0m\u001b[0;34m.\u001b[0m\u001b[0m_func\u001b[0m\u001b[0;34m,\u001b[0m \u001b[0mag_ctx\u001b[0m\u001b[0;34m)\u001b[0m\u001b[0;34m(\u001b[0m\u001b[0;34m*\u001b[0m\u001b[0mnested_args\u001b[0m\u001b[0;34m)\u001b[0m\u001b[0;34m\u001b[0m\u001b[0;34m\u001b[0m\u001b[0m\n\u001b[0m\u001b[1;32m   3618\u001b[0m       \u001b[0;32mif\u001b[0m \u001b[0m_should_pack\u001b[0m\u001b[0;34m(\u001b[0m\u001b[0mret\u001b[0m\u001b[0;34m)\u001b[0m\u001b[0;34m:\u001b[0m\u001b[0;34m\u001b[0m\u001b[0;34m\u001b[0m\u001b[0m\n\u001b[1;32m   3619\u001b[0m         \u001b[0mret\u001b[0m \u001b[0;34m=\u001b[0m \u001b[0mtuple\u001b[0m\u001b[0;34m(\u001b[0m\u001b[0mret\u001b[0m\u001b[0;34m)\u001b[0m\u001b[0;34m\u001b[0m\u001b[0;34m\u001b[0m\u001b[0m\n",
      "\u001b[0;32m~/tf2/lib/python3.6/site-packages/tensorflow/python/autograph/impl/api.py\u001b[0m in \u001b[0;36mwrapper\u001b[0;34m(*args, **kwargs)\u001b[0m\n\u001b[1;32m    693\u001b[0m       \u001b[0;32mexcept\u001b[0m \u001b[0mException\u001b[0m \u001b[0;32mas\u001b[0m \u001b[0me\u001b[0m\u001b[0;34m:\u001b[0m  \u001b[0;31m# pylint:disable=broad-except\u001b[0m\u001b[0;34m\u001b[0m\u001b[0;34m\u001b[0m\u001b[0m\n\u001b[1;32m    694\u001b[0m         \u001b[0;32mif\u001b[0m \u001b[0mhasattr\u001b[0m\u001b[0;34m(\u001b[0m\u001b[0me\u001b[0m\u001b[0;34m,\u001b[0m \u001b[0;34m'ag_error_metadata'\u001b[0m\u001b[0;34m)\u001b[0m\u001b[0;34m:\u001b[0m\u001b[0;34m\u001b[0m\u001b[0;34m\u001b[0m\u001b[0m\n\u001b[0;32m--> 695\u001b[0;31m           \u001b[0;32mraise\u001b[0m \u001b[0me\u001b[0m\u001b[0;34m.\u001b[0m\u001b[0mag_error_metadata\u001b[0m\u001b[0;34m.\u001b[0m\u001b[0mto_exception\u001b[0m\u001b[0;34m(\u001b[0m\u001b[0me\u001b[0m\u001b[0;34m)\u001b[0m\u001b[0;34m\u001b[0m\u001b[0;34m\u001b[0m\u001b[0m\n\u001b[0m\u001b[1;32m    696\u001b[0m         \u001b[0;32melse\u001b[0m\u001b[0;34m:\u001b[0m\u001b[0;34m\u001b[0m\u001b[0;34m\u001b[0m\u001b[0m\n\u001b[1;32m    697\u001b[0m           \u001b[0;32mraise\u001b[0m\u001b[0;34m\u001b[0m\u001b[0;34m\u001b[0m\u001b[0m\n",
      "\u001b[0;31mValueError\u001b[0m: in user code:\n\n    <ipython-input-11-4cf1506fee82>:2 get_waveform_and_label  *\n        label = get_label(file_path[0])\n    /home/a00439/tf2/lib/python3.6/site-packages/tensorflow/python/util/dispatch.py:206 wrapper\n        return target(*args, **kwargs)\n    /home/a00439/tf2/lib/python3.6/site-packages/tensorflow/python/ops/array_ops.py:1051 _slice_helper\n        name=name)\n    /home/a00439/tf2/lib/python3.6/site-packages/tensorflow/python/util/dispatch.py:206 wrapper\n        return target(*args, **kwargs)\n    /home/a00439/tf2/lib/python3.6/site-packages/tensorflow/python/ops/array_ops.py:1223 strided_slice\n        shrink_axis_mask=shrink_axis_mask)\n    /home/a00439/tf2/lib/python3.6/site-packages/tensorflow/python/ops/gen_array_ops.py:10537 strided_slice\n        shrink_axis_mask=shrink_axis_mask, name=name)\n    /home/a00439/tf2/lib/python3.6/site-packages/tensorflow/python/framework/op_def_library.py:750 _apply_op_helper\n        attrs=attr_protos, op_def=op_def)\n    /home/a00439/tf2/lib/python3.6/site-packages/tensorflow/python/framework/func_graph.py:601 _create_op_internal\n        compute_device)\n    /home/a00439/tf2/lib/python3.6/site-packages/tensorflow/python/framework/ops.py:3565 _create_op_internal\n        op_def=op_def)\n    /home/a00439/tf2/lib/python3.6/site-packages/tensorflow/python/framework/ops.py:2042 __init__\n        control_input_ops, op_def)\n    /home/a00439/tf2/lib/python3.6/site-packages/tensorflow/python/framework/ops.py:1883 _create_c_op\n        raise ValueError(str(e))\n\n    ValueError: Index out of range using input dim 0; input has only 0 dims for '{{node strided_slice}} = StridedSlice[Index=DT_INT32, T=DT_STRING, begin_mask=0, ellipsis_mask=0, end_mask=0, new_axis_mask=0, shrink_axis_mask=1](args_0, strided_slice/stack, strided_slice/stack_1, strided_slice/stack_2)' with input shapes: [], [1], [1], [1] and with computed input tensors: input[3] = <1>.\n"
     ]
    }
   ],
   "source": [
    "sample_file = preprocess_dataset(['/media/a00439/2C167E66167E30C6/AEdata/20181225_0310_row01_feed200um_2_sof3/row01/AEdate_280.lvm'])\n",
    "\n",
    "sample_ds = sample_file\n",
    "\n",
    "for spectrogram, label in sample_ds.batch(1):\n",
    "    prediction = model(spectrogram)\n",
    "    plt.bar(commands, tf.nn.softmax(prediction[0]))\n",
    "    plt.title(f'Predictions for \"{commands[label[0]]}\"')\n",
    "    plt.show()"
   ]
  },
  {
   "cell_type": "code",
   "execution_count": null,
   "id": "bf0017ca",
   "metadata": {},
   "outputs": [],
   "source": []
  }
 ],
 "metadata": {
  "kernelspec": {
   "display_name": "tf2",
   "language": "python",
   "name": "tf2"
  },
  "language_info": {
   "codemirror_mode": {
    "name": "ipython",
    "version": 3
   },
   "file_extension": ".py",
   "mimetype": "text/x-python",
   "name": "python",
   "nbconvert_exporter": "python",
   "pygments_lexer": "ipython3",
   "version": "3.6.9"
  }
 },
 "nbformat": 4,
 "nbformat_minor": 5
}
